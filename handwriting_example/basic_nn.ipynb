{
 "cells": [
  {
   "cell_type": "code",
   "execution_count": 1,
   "metadata": {},
   "outputs": [
    {
     "name": "stderr",
     "output_type": "stream",
     "text": [
      "Using TensorFlow backend.\n"
     ]
    }
   ],
   "source": [
    "import numpy as np\n",
    "from keras.datasets import mnist\n",
    "from keras.models import Sequential\n",
    "from keras.layers import Dense\n",
    "from keras.layers import Dropout\n",
    "from keras.utils import np_utils\n",
    "import matplotlib.pyplot as plt\n",
    "plt.style.use('ggplot')"
   ]
  },
  {
   "cell_type": "code",
   "execution_count": 2,
   "metadata": {
    "collapsed": true
   },
   "outputs": [],
   "source": [
    "seed=7\n",
    "np.random.seed(seed)"
   ]
  },
  {
   "cell_type": "code",
   "execution_count": 3,
   "metadata": {
    "collapsed": true
   },
   "outputs": [],
   "source": [
    "(X_train, y_train), (X_test, y_test) = mnist.load_data()"
   ]
  },
  {
   "cell_type": "code",
   "execution_count": 4,
   "metadata": {
    "collapsed": true
   },
   "outputs": [],
   "source": [
    "num_pixels = X_train.shape[1]*X_train.shape[2]\n",
    "X_train = X_train.reshape(X_train.shape[0], num_pixels).astype('float32')\n",
    "X_test = X_test.reshape(X_test.shape[0], num_pixels).astype('float32')"
   ]
  },
  {
   "cell_type": "code",
   "execution_count": 5,
   "metadata": {
    "collapsed": true
   },
   "outputs": [],
   "source": [
    "X_train = X_train/255\n",
    "X_test = X_test/255"
   ]
  },
  {
   "cell_type": "code",
   "execution_count": 6,
   "metadata": {
    "collapsed": true
   },
   "outputs": [],
   "source": [
    "y_train = np_utils.to_categorical(y_train)\n",
    "y_test = np_utils.to_categorical(y_test)\n",
    "num_classes = y_test.shape[1]"
   ]
  },
  {
   "cell_type": "code",
   "execution_count": 8,
   "metadata": {
    "collapsed": true
   },
   "outputs": [],
   "source": [
    "def baseline_model():\n",
    "    model = Sequential()\n",
    "    model.add(Dense(num_pixels, input_dim=num_pixels, kernel_initializer='normal', activation='relu'))\n",
    "    model.add(Dense(num_classes, kernel_initializer='normal',activation = 'softmax'))\n",
    "    model.compile(loss='categorical_crossentropy',optimizer='adam',metrics=['accuracy'])\n",
    "    return model"
   ]
  },
  {
   "cell_type": "code",
   "execution_count": 9,
   "metadata": {},
   "outputs": [
    {
     "name": "stdout",
     "output_type": "stream",
     "text": [
      "Train on 60000 samples, validate on 10000 samples\n",
      "Epoch 1/10\n",
      "2s - loss: 0.2835 - acc: 0.9192 - val_loss: 0.1395 - val_acc: 0.9583\n",
      "Epoch 2/10\n",
      "0s - loss: 0.1095 - acc: 0.9682 - val_loss: 0.0910 - val_acc: 0.9710\n",
      "Epoch 3/10\n",
      "0s - loss: 0.0702 - acc: 0.9801 - val_loss: 0.0796 - val_acc: 0.9761\n",
      "Epoch 4/10\n",
      "0s - loss: 0.0496 - acc: 0.9861 - val_loss: 0.0725 - val_acc: 0.9772\n",
      "Epoch 5/10\n",
      "0s - loss: 0.0371 - acc: 0.9894 - val_loss: 0.0667 - val_acc: 0.9798\n",
      "Epoch 6/10\n",
      "0s - loss: 0.0265 - acc: 0.9931 - val_loss: 0.0652 - val_acc: 0.9793\n",
      "Epoch 7/10\n",
      "0s - loss: 0.0209 - acc: 0.9946 - val_loss: 0.0585 - val_acc: 0.9815\n",
      "Epoch 8/10\n",
      "0s - loss: 0.0134 - acc: 0.9971 - val_loss: 0.0621 - val_acc: 0.9803\n",
      "Epoch 9/10\n",
      "0s - loss: 0.0111 - acc: 0.9974 - val_loss: 0.0568 - val_acc: 0.9816\n",
      "Epoch 10/10\n",
      "0s - loss: 0.0077 - acc: 0.9988 - val_loss: 0.0575 - val_acc: 0.9817\n"
     ]
    }
   ],
   "source": [
    "model = baseline_model()\n",
    "history = model.fit(X_train,y_train,validation_data=(X_test,y_test),epochs=10,batch_size=200,verbose=2)\n",
    "scores=model.evaluate(X_test,y_test,verbose=0)"
   ]
  },
  {
   "cell_type": "code",
   "execution_count": 10,
   "metadata": {},
   "outputs": [
    {
     "name": "stdout",
     "output_type": "stream",
     "text": [
      "dict_keys(['val_loss', 'val_acc', 'loss', 'acc'])\n"
     ]
    }
   ],
   "source": [
    "print(history.history.keys())"
   ]
  },
  {
   "cell_type": "code",
   "execution_count": 11,
   "metadata": {},
   "outputs": [
    {
     "data": {
      "image/png": "[encoded data removed]",
      "text/plain": [
       "<matplotlib.figure.Figure at 0x7f15a67f0588>"
      ]
     },
     "metadata": {},
     "output_type": "display_data"
    }
   ],
   "source": [
    "plt.plot(history.history['acc'])\n",
    "plt.plot(history.history['val_acc'])\n",
    "plt.title('model accuracy')\n",
    "plt.ylabel('accuracy')\n",
    "plt.xlabel('epoch')\n",
    "plt.legend(['train','test'], loc='upper left')\n",
    "plt.savefig('ten-epoch-acc.jpg', DPI=1000)\n",
    "plt.show()"
   ]
  },
  {
   "cell_type": "code",
   "execution_count": 12,
   "metadata": {},
   "outputs": [
    {
     "name": "stdout",
     "output_type": "stream",
     "text": [
      "Train on 60000 samples, validate on 10000 samples\n",
      "Epoch 1/50\n",
      "0s - loss: 0.2766 - acc: 0.9206 - val_loss: 0.1430 - val_acc: 0.9594\n",
      "Epoch 2/50\n",
      "0s - loss: 0.1088 - acc: 0.9684 - val_loss: 0.0930 - val_acc: 0.9721\n",
      "Epoch 3/50\n",
      "0s - loss: 0.0702 - acc: 0.9799 - val_loss: 0.0777 - val_acc: 0.9771\n",
      "Epoch 4/50\n",
      "0s - loss: 0.0498 - acc: 0.9857 - val_loss: 0.0721 - val_acc: 0.9786\n",
      "Epoch 5/50\n",
      "0s - loss: 0.0362 - acc: 0.9898 - val_loss: 0.0666 - val_acc: 0.9794\n",
      "Epoch 6/50\n",
      "0s - loss: 0.0256 - acc: 0.9934 - val_loss: 0.0658 - val_acc: 0.9817\n",
      "Epoch 7/50\n",
      "0s - loss: 0.0195 - acc: 0.9949 - val_loss: 0.0591 - val_acc: 0.9814\n",
      "Epoch 8/50\n",
      "0s - loss: 0.0141 - acc: 0.9968 - val_loss: 0.0571 - val_acc: 0.9827\n",
      "Epoch 9/50\n",
      "0s - loss: 0.0112 - acc: 0.9975 - val_loss: 0.0655 - val_acc: 0.9809\n",
      "Epoch 10/50\n",
      "0s - loss: 0.0082 - acc: 0.9983 - val_loss: 0.0585 - val_acc: 0.9833\n",
      "Epoch 11/50\n",
      "0s - loss: 0.0056 - acc: 0.9992 - val_loss: 0.0582 - val_acc: 0.9830\n",
      "Epoch 12/50\n",
      "0s - loss: 0.0051 - acc: 0.9992 - val_loss: 0.0614 - val_acc: 0.9831\n",
      "Epoch 13/50\n",
      "0s - loss: 0.0036 - acc: 0.9995 - val_loss: 0.0598 - val_acc: 0.9830\n",
      "Epoch 14/50\n",
      "0s - loss: 0.0058 - acc: 0.9987 - val_loss: 0.0672 - val_acc: 0.9819\n",
      "Epoch 15/50\n",
      "0s - loss: 0.0073 - acc: 0.9979 - val_loss: 0.0823 - val_acc: 0.9787\n",
      "Epoch 16/50\n",
      "0s - loss: 0.0098 - acc: 0.9970 - val_loss: 0.0760 - val_acc: 0.9812\n",
      "Epoch 17/50\n",
      "0s - loss: 0.0039 - acc: 0.9990 - val_loss: 0.0707 - val_acc: 0.9807\n",
      "Epoch 18/50\n",
      "0s - loss: 0.0021 - acc: 0.9997 - val_loss: 0.0641 - val_acc: 0.9842\n",
      "Epoch 19/50\n",
      "0s - loss: 6.5139e-04 - acc: 1.0000 - val_loss: 0.0631 - val_acc: 0.9842\n",
      "Epoch 20/50\n",
      "0s - loss: 3.6250e-04 - acc: 1.0000 - val_loss: 0.0634 - val_acc: 0.9842\n",
      "Epoch 21/50\n",
      "0s - loss: 2.8378e-04 - acc: 1.0000 - val_loss: 0.0648 - val_acc: 0.9843\n",
      "Epoch 22/50\n",
      "0s - loss: 2.5005e-04 - acc: 1.0000 - val_loss: 0.0644 - val_acc: 0.9848\n",
      "Epoch 23/50\n",
      "0s - loss: 2.2182e-04 - acc: 1.0000 - val_loss: 0.0649 - val_acc: 0.9847\n",
      "Epoch 24/50\n",
      "0s - loss: 1.9590e-04 - acc: 1.0000 - val_loss: 0.0656 - val_acc: 0.9846\n",
      "Epoch 25/50\n",
      "0s - loss: 1.7475e-04 - acc: 1.0000 - val_loss: 0.0658 - val_acc: 0.9845\n",
      "Epoch 26/50\n",
      "0s - loss: 1.5265e-04 - acc: 1.0000 - val_loss: 0.0660 - val_acc: 0.9843\n",
      "Epoch 27/50\n",
      "0s - loss: 1.3595e-04 - acc: 1.0000 - val_loss: 0.0672 - val_acc: 0.9839\n",
      "Epoch 28/50\n",
      "0s - loss: 1.1926e-04 - acc: 1.0000 - val_loss: 0.0676 - val_acc: 0.9841\n",
      "Epoch 29/50\n",
      "0s - loss: 1.1215e-04 - acc: 1.0000 - val_loss: 0.0680 - val_acc: 0.9845\n",
      "Epoch 30/50\n",
      "0s - loss: 9.4102e-05 - acc: 1.0000 - val_loss: 0.0685 - val_acc: 0.9842\n",
      "Epoch 31/50\n",
      "0s - loss: 8.3154e-05 - acc: 1.0000 - val_loss: 0.0693 - val_acc: 0.9839\n",
      "Epoch 32/50\n",
      "0s - loss: 0.0241 - acc: 0.9928 - val_loss: 0.1052 - val_acc: 0.9767\n",
      "Epoch 33/50\n",
      "0s - loss: 0.0118 - acc: 0.9956 - val_loss: 0.0822 - val_acc: 0.9812\n",
      "Epoch 34/50\n",
      "0s - loss: 0.0022 - acc: 0.9995 - val_loss: 0.0756 - val_acc: 0.9818\n",
      "Epoch 35/50\n",
      "0s - loss: 6.5150e-04 - acc: 1.0000 - val_loss: 0.0705 - val_acc: 0.9843\n",
      "Epoch 36/50\n",
      "0s - loss: 2.6888e-04 - acc: 1.0000 - val_loss: 0.0708 - val_acc: 0.9842\n",
      "Epoch 37/50\n",
      "0s - loss: 2.0241e-04 - acc: 1.0000 - val_loss: 0.0717 - val_acc: 0.9841\n",
      "Epoch 38/50\n",
      "0s - loss: 1.6807e-04 - acc: 1.0000 - val_loss: 0.0724 - val_acc: 0.9839\n",
      "Epoch 39/50\n",
      "0s - loss: 1.4253e-04 - acc: 1.0000 - val_loss: 0.0726 - val_acc: 0.9840\n",
      "Epoch 40/50\n",
      "0s - loss: 1.2477e-04 - acc: 1.0000 - val_loss: 0.0733 - val_acc: 0.9838\n",
      "Epoch 41/50\n",
      "0s - loss: 1.0909e-04 - acc: 1.0000 - val_loss: 0.0731 - val_acc: 0.9838\n",
      "Epoch 42/50\n",
      "0s - loss: 9.5751e-05 - acc: 1.0000 - val_loss: 0.0741 - val_acc: 0.9841\n",
      "Epoch 43/50\n",
      "0s - loss: 8.6082e-05 - acc: 1.0000 - val_loss: 0.0742 - val_acc: 0.9839\n",
      "Epoch 44/50\n",
      "0s - loss: 7.4696e-05 - acc: 1.0000 - val_loss: 0.0751 - val_acc: 0.9842\n",
      "Epoch 45/50\n",
      "0s - loss: 6.5712e-05 - acc: 1.0000 - val_loss: 0.0755 - val_acc: 0.9842\n",
      "Epoch 46/50\n",
      "0s - loss: 5.9650e-05 - acc: 1.0000 - val_loss: 0.0756 - val_acc: 0.9840\n",
      "Epoch 47/50\n",
      "0s - loss: 5.1684e-05 - acc: 1.0000 - val_loss: 0.0760 - val_acc: 0.9838\n",
      "Epoch 48/50\n",
      "0s - loss: 4.5431e-05 - acc: 1.0000 - val_loss: 0.0771 - val_acc: 0.9839\n",
      "Epoch 49/50\n",
      "0s - loss: 4.1134e-05 - acc: 1.0000 - val_loss: 0.0774 - val_acc: 0.9839\n",
      "Epoch 50/50\n",
      "0s - loss: 3.5854e-05 - acc: 1.0000 - val_loss: 0.0779 - val_acc: 0.9839\n"
     ]
    }
   ],
   "source": [
    "model2 = baseline_model()\n",
    "history2 = model2.fit(X_train,y_train,validation_data=(X_test,y_test),epochs=50,batch_size=200,verbose=2)"
   ]
  },
  {
   "cell_type": "code",
   "execution_count": 15,
   "metadata": {},
   "outputs": [
    {
     "data": {
      "image/png": "[encoded data removed]",
      "text/plain": [
       "<matplotlib.figure.Figure at 0x7f1598f36e10>"
      ]
     },
     "metadata": {},
     "output_type": "display_data"
    }
   ],
   "source": [
    "plt.plot(history2.history['acc'])\n",
    "plt.plot(history2.history['val_acc'])\n",
    "plt.title('model accuracy - 50')\n",
    "plt.ylabel('accuracy')\n",
    "plt.xlabel('epoch')\n",
    "plt.legend(['train','test'], loc='upper left')\n",
    "plt.savefig('fifty-epoch-acc.jpg', DPI=1000)\n",
    "plt.show()"
   ]
  },
  {
   "cell_type": "code",
   "execution_count": 16,
   "metadata": {},
   "outputs": [
    {
     "name": "stdout",
     "output_type": "stream",
     "text": [
      "Train on 60000 samples, validate on 10000 samples\n",
      "Epoch 1/100\n",
      "0s - loss: 0.0057 - acc: 0.9992 - val_loss: 0.0624 - val_acc: 0.9812\n",
      "Epoch 2/100\n",
      "0s - loss: 0.0058 - acc: 0.9989 - val_loss: 0.0629 - val_acc: 0.9807\n",
      "Epoch 3/100\n",
      "0s - loss: 0.0041 - acc: 0.9994 - val_loss: 0.0601 - val_acc: 0.9827\n",
      "Epoch 4/100\n",
      "0s - loss: 0.0027 - acc: 0.9996 - val_loss: 0.0649 - val_acc: 0.9822\n",
      "Epoch 5/100\n",
      "0s - loss: 0.0079 - acc: 0.9977 - val_loss: 0.0784 - val_acc: 0.9792\n",
      "Epoch 6/100\n",
      "0s - loss: 0.0109 - acc: 0.9965 - val_loss: 0.0726 - val_acc: 0.9793\n",
      "Epoch 7/100\n",
      "0s - loss: 0.0038 - acc: 0.9992 - val_loss: 0.0647 - val_acc: 0.9839\n",
      "Epoch 8/100\n",
      "0s - loss: 0.0011 - acc: 1.0000 - val_loss: 0.0629 - val_acc: 0.9834\n",
      "Epoch 9/100\n",
      "0s - loss: 5.0422e-04 - acc: 1.0000 - val_loss: 0.0630 - val_acc: 0.9835\n",
      "Epoch 10/100\n",
      "0s - loss: 3.8141e-04 - acc: 1.0000 - val_loss: 0.0634 - val_acc: 0.9834\n",
      "Epoch 11/100\n",
      "0s - loss: 3.0991e-04 - acc: 1.0000 - val_loss: 0.0645 - val_acc: 0.9834\n",
      "Epoch 12/100\n",
      "0s - loss: 2.7240e-04 - acc: 1.0000 - val_loss: 0.0646 - val_acc: 0.9832\n",
      "Epoch 13/100\n",
      "0s - loss: 2.3936e-04 - acc: 1.0000 - val_loss: 0.0645 - val_acc: 0.9838\n",
      "Epoch 14/100\n",
      "0s - loss: 2.0674e-04 - acc: 1.0000 - val_loss: 0.0656 - val_acc: 0.9835\n",
      "Epoch 15/100\n",
      "0s - loss: 1.8958e-04 - acc: 1.0000 - val_loss: 0.0668 - val_acc: 0.9837\n",
      "Epoch 16/100\n",
      "0s - loss: 1.6100e-04 - acc: 1.0000 - val_loss: 0.0667 - val_acc: 0.9837\n",
      "Epoch 17/100\n",
      "0s - loss: 1.4157e-04 - acc: 1.0000 - val_loss: 0.0670 - val_acc: 0.9840\n",
      "Epoch 18/100\n",
      "0s - loss: 1.2833e-04 - acc: 1.0000 - val_loss: 0.0677 - val_acc: 0.9837\n",
      "Epoch 19/100\n",
      "0s - loss: 1.1173e-04 - acc: 1.0000 - val_loss: 0.0689 - val_acc: 0.9836\n",
      "Epoch 20/100\n",
      "0s - loss: 1.1889e-04 - acc: 1.0000 - val_loss: 0.0685 - val_acc: 0.9837\n",
      "Epoch 21/100\n",
      "0s - loss: 0.0294 - acc: 0.9904 - val_loss: 0.0818 - val_acc: 0.9809\n",
      "Epoch 22/100\n",
      "0s - loss: 0.0060 - acc: 0.9981 - val_loss: 0.0881 - val_acc: 0.9799\n",
      "Epoch 23/100\n",
      "0s - loss: 0.0016 - acc: 0.9997 - val_loss: 0.0764 - val_acc: 0.9827\n",
      "Epoch 24/100\n",
      "0s - loss: 4.1818e-04 - acc: 1.0000 - val_loss: 0.0705 - val_acc: 0.9837\n",
      "Epoch 25/100\n",
      "0s - loss: 2.3630e-04 - acc: 1.0000 - val_loss: 0.0712 - val_acc: 0.9836\n",
      "Epoch 26/100\n",
      "0s - loss: 1.8819e-04 - acc: 1.0000 - val_loss: 0.0714 - val_acc: 0.9840\n",
      "Epoch 27/100\n",
      "0s - loss: 1.5982e-04 - acc: 1.0000 - val_loss: 0.0713 - val_acc: 0.9842\n",
      "Epoch 28/100\n",
      "0s - loss: 1.3755e-04 - acc: 1.0000 - val_loss: 0.0716 - val_acc: 0.9841\n",
      "Epoch 29/100\n",
      "0s - loss: 1.2011e-04 - acc: 1.0000 - val_loss: 0.0720 - val_acc: 0.9844\n",
      "Epoch 30/100\n",
      "0s - loss: 1.0546e-04 - acc: 1.0000 - val_loss: 0.0729 - val_acc: 0.9842\n",
      "Epoch 31/100\n",
      "0s - loss: 9.4387e-05 - acc: 1.0000 - val_loss: 0.0733 - val_acc: 0.9845\n",
      "Epoch 32/100\n",
      "0s - loss: 8.2923e-05 - acc: 1.0000 - val_loss: 0.0733 - val_acc: 0.9844\n",
      "Epoch 33/100\n",
      "0s - loss: 7.4080e-05 - acc: 1.0000 - val_loss: 0.0736 - val_acc: 0.9845\n",
      "Epoch 34/100\n",
      "0s - loss: 6.5462e-05 - acc: 1.0000 - val_loss: 0.0752 - val_acc: 0.9844\n",
      "Epoch 35/100\n",
      "0s - loss: 5.8808e-05 - acc: 1.0000 - val_loss: 0.0745 - val_acc: 0.9845\n",
      "Epoch 36/100\n",
      "0s - loss: 5.2060e-05 - acc: 1.0000 - val_loss: 0.0753 - val_acc: 0.9845\n",
      "Epoch 37/100\n",
      "0s - loss: 4.6021e-05 - acc: 1.0000 - val_loss: 0.0752 - val_acc: 0.9845\n",
      "Epoch 38/100\n",
      "0s - loss: 3.9838e-05 - acc: 1.0000 - val_loss: 0.0761 - val_acc: 0.9844\n",
      "Epoch 39/100\n",
      "0s - loss: 3.5385e-05 - acc: 1.0000 - val_loss: 0.0764 - val_acc: 0.9843\n",
      "Epoch 40/100\n",
      "0s - loss: 3.0959e-05 - acc: 1.0000 - val_loss: 0.0769 - val_acc: 0.9850\n",
      "Epoch 41/100\n",
      "0s - loss: 2.7690e-05 - acc: 1.0000 - val_loss: 0.0779 - val_acc: 0.9841\n",
      "Epoch 42/100\n",
      "0s - loss: 2.4551e-05 - acc: 1.0000 - val_loss: 0.0780 - val_acc: 0.9845\n",
      "Epoch 43/100\n",
      "0s - loss: 2.1274e-05 - acc: 1.0000 - val_loss: 0.0783 - val_acc: 0.9844\n",
      "Epoch 44/100\n",
      "0s - loss: 1.8793e-05 - acc: 1.0000 - val_loss: 0.0791 - val_acc: 0.9845\n",
      "Epoch 45/100\n",
      "0s - loss: 1.6397e-05 - acc: 1.0000 - val_loss: 0.0799 - val_acc: 0.9842\n",
      "Epoch 46/100\n",
      "0s - loss: 1.4738e-05 - acc: 1.0000 - val_loss: 0.0800 - val_acc: 0.9845\n",
      "Epoch 47/100\n",
      "0s - loss: 0.0188 - acc: 0.9951 - val_loss: 0.1332 - val_acc: 0.9733\n",
      "Epoch 48/100\n",
      "0s - loss: 0.0114 - acc: 0.9960 - val_loss: 0.0918 - val_acc: 0.9817\n",
      "Epoch 49/100\n",
      "0s - loss: 0.0024 - acc: 0.9992 - val_loss: 0.0779 - val_acc: 0.9840\n",
      "Epoch 50/100\n",
      "0s - loss: 4.4628e-04 - acc: 0.9999 - val_loss: 0.0749 - val_acc: 0.9842\n",
      "Epoch 51/100\n",
      "0s - loss: 1.3031e-04 - acc: 1.0000 - val_loss: 0.0749 - val_acc: 0.9845\n",
      "Epoch 52/100\n",
      "0s - loss: 9.1697e-05 - acc: 1.0000 - val_loss: 0.0754 - val_acc: 0.9848\n",
      "Epoch 53/100\n",
      "0s - loss: 7.5623e-05 - acc: 1.0000 - val_loss: 0.0759 - val_acc: 0.9847\n",
      "Epoch 54/100\n",
      "0s - loss: 6.4680e-05 - acc: 1.0000 - val_loss: 0.0763 - val_acc: 0.9847\n",
      "Epoch 55/100\n",
      "0s - loss: 5.6225e-05 - acc: 1.0000 - val_loss: 0.0769 - val_acc: 0.9846\n",
      "Epoch 56/100\n",
      "0s - loss: 4.8870e-05 - acc: 1.0000 - val_loss: 0.0774 - val_acc: 0.9848\n",
      "Epoch 57/100\n",
      "0s - loss: 4.3394e-05 - acc: 1.0000 - val_loss: 0.0778 - val_acc: 0.9849\n",
      "Epoch 58/100\n",
      "0s - loss: 3.8005e-05 - acc: 1.0000 - val_loss: 0.0785 - val_acc: 0.9845\n",
      "Epoch 59/100\n",
      "0s - loss: 3.3688e-05 - acc: 1.0000 - val_loss: 0.0788 - val_acc: 0.9848\n",
      "Epoch 60/100\n",
      "0s - loss: 2.9914e-05 - acc: 1.0000 - val_loss: 0.0793 - val_acc: 0.9848\n",
      "Epoch 61/100\n",
      "0s - loss: 2.6514e-05 - acc: 1.0000 - val_loss: 0.0796 - val_acc: 0.9851\n",
      "Epoch 62/100\n",
      "0s - loss: 2.3561e-05 - acc: 1.0000 - val_loss: 0.0805 - val_acc: 0.9849\n",
      "Epoch 63/100\n",
      "0s - loss: 2.1024e-05 - acc: 1.0000 - val_loss: 0.0811 - val_acc: 0.9850\n",
      "Epoch 64/100\n",
      "0s - loss: 1.8777e-05 - acc: 1.0000 - val_loss: 0.0821 - val_acc: 0.9848\n",
      "Epoch 65/100\n",
      "0s - loss: 1.6752e-05 - acc: 1.0000 - val_loss: 0.0816 - val_acc: 0.9848\n",
      "Epoch 66/100\n",
      "0s - loss: 1.4852e-05 - acc: 1.0000 - val_loss: 0.0821 - val_acc: 0.9850\n",
      "Epoch 67/100\n",
      "0s - loss: 1.3169e-05 - acc: 1.0000 - val_loss: 0.0829 - val_acc: 0.9848\n",
      "Epoch 68/100\n",
      "0s - loss: 1.1642e-05 - acc: 1.0000 - val_loss: 0.0840 - val_acc: 0.9848\n",
      "Epoch 69/100\n",
      "0s - loss: 1.0310e-05 - acc: 1.0000 - val_loss: 0.0844 - val_acc: 0.9849\n",
      "Epoch 70/100\n",
      "0s - loss: 9.1891e-06 - acc: 1.0000 - val_loss: 0.0844 - val_acc: 0.9846\n",
      "Epoch 71/100\n",
      "0s - loss: 8.1344e-06 - acc: 1.0000 - val_loss: 0.0849 - val_acc: 0.9848\n",
      "Epoch 72/100\n",
      "0s - loss: 7.1939e-06 - acc: 1.0000 - val_loss: 0.0853 - val_acc: 0.9847\n",
      "Epoch 73/100\n",
      "0s - loss: 6.3721e-06 - acc: 1.0000 - val_loss: 0.0864 - val_acc: 0.9846\n",
      "Epoch 74/100\n",
      "0s - loss: 5.6975e-06 - acc: 1.0000 - val_loss: 0.0875 - val_acc: 0.9847\n",
      "Epoch 75/100\n",
      "0s - loss: 4.9762e-06 - acc: 1.0000 - val_loss: 0.0876 - val_acc: 0.9843\n",
      "Epoch 76/100\n",
      "0s - loss: 4.3236e-06 - acc: 1.0000 - val_loss: 0.0885 - val_acc: 0.9844\n",
      "Epoch 77/100\n",
      "0s - loss: 3.9017e-06 - acc: 1.0000 - val_loss: 0.0887 - val_acc: 0.9844\n",
      "Epoch 78/100\n",
      "0s - loss: 3.4011e-06 - acc: 1.0000 - val_loss: 0.0892 - val_acc: 0.9846\n",
      "Epoch 79/100\n",
      "0s - loss: 3.0307e-06 - acc: 1.0000 - val_loss: 0.0893 - val_acc: 0.9848\n",
      "Epoch 80/100\n",
      "0s - loss: 2.7087e-06 - acc: 1.0000 - val_loss: 0.0902 - val_acc: 0.9845\n",
      "Epoch 81/100\n",
      "0s - loss: 2.4408e-06 - acc: 1.0000 - val_loss: 0.0904 - val_acc: 0.9847\n",
      "Epoch 82/100\n",
      "0s - loss: 2.0830e-06 - acc: 1.0000 - val_loss: 0.0920 - val_acc: 0.9849\n",
      "Epoch 83/100\n",
      "0s - loss: 1.8228e-06 - acc: 1.0000 - val_loss: 0.0922 - val_acc: 0.9846\n",
      "Epoch 84/100\n",
      "0s - loss: 1.6082e-06 - acc: 1.0000 - val_loss: 0.0935 - val_acc: 0.9844\n",
      "Epoch 85/100\n",
      "0s - loss: 1.4148e-06 - acc: 1.0000 - val_loss: 0.0938 - val_acc: 0.9843\n",
      "Epoch 86/100\n",
      "0s - loss: 1.2632e-06 - acc: 1.0000 - val_loss: 0.0939 - val_acc: 0.9849\n",
      "Epoch 87/100\n",
      "0s - loss: 1.1021e-06 - acc: 1.0000 - val_loss: 0.0950 - val_acc: 0.9850\n",
      "Epoch 88/100\n",
      "0s - loss: 9.6609e-07 - acc: 1.0000 - val_loss: 0.0958 - val_acc: 0.9847\n",
      "Epoch 89/100\n",
      "0s - loss: 8.5257e-07 - acc: 1.0000 - val_loss: 0.0966 - val_acc: 0.9844\n",
      "Epoch 90/100\n",
      "0s - loss: 7.5961e-07 - acc: 1.0000 - val_loss: 0.0967 - val_acc: 0.9847\n",
      "Epoch 91/100\n",
      "0s - loss: 6.6662e-07 - acc: 1.0000 - val_loss: 0.0974 - val_acc: 0.9847\n",
      "Epoch 92/100\n",
      "0s - loss: 6.0225e-07 - acc: 1.0000 - val_loss: 0.0988 - val_acc: 0.9846\n",
      "Epoch 93/100\n",
      "0s - loss: 5.4370e-07 - acc: 1.0000 - val_loss: 0.0992 - val_acc: 0.9843\n",
      "Epoch 94/100\n",
      "0s - loss: 4.8031e-07 - acc: 1.0000 - val_loss: 0.1002 - val_acc: 0.9847\n",
      "Epoch 95/100\n",
      "0s - loss: 4.4139e-07 - acc: 1.0000 - val_loss: 0.0999 - val_acc: 0.9846\n",
      "Epoch 96/100\n",
      "0s - loss: 3.8918e-07 - acc: 1.0000 - val_loss: 0.1008 - val_acc: 0.9847\n",
      "Epoch 97/100\n"
     ]
    },
    {
     "name": "stdout",
     "output_type": "stream",
     "text": [
      "0s - loss: 3.5176e-07 - acc: 1.0000 - val_loss: 0.1017 - val_acc: 0.9846\n",
      "Epoch 98/100\n",
      "0s - loss: 3.2212e-07 - acc: 1.0000 - val_loss: 0.1018 - val_acc: 0.9849\n",
      "Epoch 99/100\n",
      "0s - loss: 2.9047e-07 - acc: 1.0000 - val_loss: 0.1028 - val_acc: 0.9845\n",
      "Epoch 100/100\n",
      "0s - loss: 2.6528e-07 - acc: 1.0000 - val_loss: 0.1037 - val_acc: 0.9845\n"
     ]
    }
   ],
   "source": [
    "model3 = baseline_model()\n",
    "history3 = model.fit(X_train,y_train,validation_data=(X_test,y_test),epochs=100,batch_size=200,verbose=2)\n",
    "scores3=model.evaluate(X_test,y_test,verbose=0)"
   ]
  },
  {
   "cell_type": "code",
   "execution_count": 18,
   "metadata": {},
   "outputs": [
    {
     "data": {
      "image/png": "[encoded data removed]",
      "text/plain": [
       "<matplotlib.figure.Figure at 0x7f1598f5f198>"
      ]
     },
     "metadata": {},
     "output_type": "display_data"
    }
   ],
   "source": [
    "plt.plot(history3.history['acc'])\n",
    "plt.plot(history3.history['val_acc'])\n",
    "plt.title('model accuracy - 100')\n",
    "plt.ylabel('accuracy')\n",
    "plt.xlabel('epoch')\n",
    "plt.legend(['train','test'], loc='upper left')\n",
    "plt.savefig('100-epoch-acc.jpg', DPI=1000)\n",
    "plt.show()"
   ]
  },
  {
   "cell_type": "code",
   "execution_count": null,
   "metadata": {
    "collapsed": true
   },
   "outputs": [],
   "source": []
  }
 ],
 "metadata": {
  "kernelspec": {
   "display_name": "tensorflow",
   "language": "python",
   "name": "tensorflow"
  },
  "language_info": {
   "codemirror_mode": {
    "name": "ipython",
    "version": 3
   },
   "file_extension": ".py",
   "mimetype": "text/x-python",
   "name": "python",
   "nbconvert_exporter": "python",
   "pygments_lexer": "ipython3",
   "version": "3.6.1"
  }
 },
 "nbformat": 4,
 "nbformat_minor": 2
}
