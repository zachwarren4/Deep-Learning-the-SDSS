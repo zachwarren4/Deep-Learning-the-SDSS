{
 "cells": [
  {
   "cell_type": "code",
   "execution_count": 1,
   "metadata": {},
   "outputs": [
    {
     "name": "stderr",
     "output_type": "stream",
     "text": [
      "Using TensorFlow backend.\n"
     ]
    }
   ],
   "source": [
    "import numpy as np\n",
    "from keras.datasets import mnist\n",
    "from keras.models import Sequential\n",
    "from keras.layers import Dense\n",
    "from keras.layers import Dropout\n",
    "from keras.utils import np_utils\n",
    "import matplotlib.pyplot as plt\n",
    "plt.style.use('ggplot')"
   ]
  },
  {
   "cell_type": "code",
   "execution_count": 2,
   "metadata": {
    "collapsed": true
   },
   "outputs": [],
   "source": [
    "seed=7\n",
    "np.random.seed(seed)"
   ]
  },
  {
   "cell_type": "code",
   "execution_count": 3,
   "metadata": {
    "collapsed": true
   },
   "outputs": [],
   "source": [
    "(X_train, y_train), (X_test, y_test) = mnist.load_data()"
   ]
  },
  {
   "cell_type": "code",
   "execution_count": 4,
   "metadata": {
    "collapsed": true
   },
   "outputs": [],
   "source": [
    "num_pixels = X_train.shape[1]*X_train.shape[2]\n",
    "X_train = X_train.reshape(X_train.shape[0], num_pixels).astype('float32')\n",
    "X_test = X_test.reshape(X_test.shape[0], num_pixels).astype('float32')"
   ]
  },
  {
   "cell_type": "code",
   "execution_count": 5,
   "metadata": {
    "collapsed": true
   },
   "outputs": [],
   "source": [
    "X_train = X_train/255\n",
    "X_test = X_test/255"
   ]
  },
  {
   "cell_type": "code",
   "execution_count": 6,
   "metadata": {
    "collapsed": true
   },
   "outputs": [],
   "source": [
    "y_train = np_utils.to_categorical(y_train)\n",
    "y_test = np_utils.to_categorical(y_test)\n",
    "num_classes = y_test.shape[1]"
   ]
  },
  {
   "cell_type": "code",
   "execution_count": 7,
   "metadata": {
    "collapsed": true
   },
   "outputs": [],
   "source": [
    "def baseline_model():\n",
    "    model = Sequential()\n",
    "    model.add(Dense(num_pixels, input_dim=num_pixels, kernel_initializer='normal', activation='relu'))\n",
    "    model.add(Dense(num_classes, kernel_initializer='normal',activation = 'softmax'))\n",
    "    model.compile(loss='categorical_crossentropy',optimizer='adam',metrics=['accuracy'])\n",
    "    return model"
   ]
  },
  {
   "cell_type": "code",
   "execution_count": 8,
   "metadata": {},
   "outputs": [
    {
     "name": "stdout",
     "output_type": "stream",
     "text": [
      "Train on 60000 samples, validate on 10000 samples\n",
      "Epoch 1/10\n",
      "2s - loss: 0.2834 - acc: 0.9192 - val_loss: 0.1399 - val_acc: 0.9578\n",
      "Epoch 2/10\n",
      "0s - loss: 0.1098 - acc: 0.9682 - val_loss: 0.0911 - val_acc: 0.9720\n",
      "Epoch 3/10\n",
      "0s - loss: 0.0703 - acc: 0.9802 - val_loss: 0.0791 - val_acc: 0.9764\n",
      "Epoch 4/10\n",
      "0s - loss: 0.0493 - acc: 0.9862 - val_loss: 0.0726 - val_acc: 0.9775\n",
      "Epoch 5/10\n",
      "0s - loss: 0.0371 - acc: 0.9893 - val_loss: 0.0661 - val_acc: 0.9794\n",
      "Epoch 6/10\n",
      "0s - loss: 0.0265 - acc: 0.9930 - val_loss: 0.0618 - val_acc: 0.9805\n",
      "Epoch 7/10\n",
      "0s - loss: 0.0206 - acc: 0.9950 - val_loss: 0.0584 - val_acc: 0.9820\n",
      "Epoch 8/10\n",
      "0s - loss: 0.0135 - acc: 0.9972 - val_loss: 0.0629 - val_acc: 0.9804\n",
      "Epoch 9/10\n",
      "0s - loss: 0.0111 - acc: 0.9975 - val_loss: 0.0576 - val_acc: 0.9815\n",
      "Epoch 10/10\n",
      "0s - loss: 0.0080 - acc: 0.9985 - val_loss: 0.0588 - val_acc: 0.9814\n"
     ]
    }
   ],
   "source": [
    "model = baseline_model()\n",
    "history = model.fit(X_train,y_train,validation_data=(X_test,y_test),epochs=10,batch_size=200,verbose=2)\n",
    "scores=model.evaluate(X_test,y_test,verbose=0)\n",
    "del model"
   ]
  },
  {
   "cell_type": "code",
   "execution_count": 9,
   "metadata": {},
   "outputs": [
    {
     "name": "stdout",
     "output_type": "stream",
     "text": [
      "dict_keys(['val_loss', 'val_acc', 'loss', 'acc'])\n"
     ]
    }
   ],
   "source": [
    "print(history.history.keys())"
   ]
  },
  {
   "cell_type": "code",
   "execution_count": 10,
   "metadata": {},
   "outputs": [
    {
     "data": {
      "image/png": "[encoded data removed]",
      "text/plain": [
       "<matplotlib.figure.Figure at 0x7fc9d50325f8>"
      ]
     },
     "metadata": {},
     "output_type": "display_data"
    }
   ],
   "source": [
    "plt.plot(history.history['acc'])\n",
    "plt.plot(history.history['val_acc'])\n",
    "plt.title('model accuracy')\n",
    "plt.ylabel('accuracy')\n",
    "plt.xlabel('epoch')\n",
    "plt.legend(['train','test'], loc='upper left')\n",
    "plt.savefig('ten-epoch-acc.jpg', DPI=1000)\n",
    "plt.show()"
   ]
  },
  {
   "cell_type": "code",
   "execution_count": 12,
   "metadata": {},
   "outputs": [
    {
     "name": "stdout",
     "output_type": "stream",
     "text": [
      "Train on 60000 samples, validate on 10000 samples\n",
      "Epoch 1/50\n",
      "0s - loss: 0.2766 - acc: 0.9206 - val_loss: 0.1430 - val_acc: 0.9594\n",
      "Epoch 2/50\n",
      "0s - loss: 0.1088 - acc: 0.9685 - val_loss: 0.0930 - val_acc: 0.9722\n",
      "Epoch 3/50\n",
      "0s - loss: 0.0702 - acc: 0.9797 - val_loss: 0.0780 - val_acc: 0.9773\n",
      "Epoch 4/50\n",
      "0s - loss: 0.0498 - acc: 0.9858 - val_loss: 0.0719 - val_acc: 0.9788\n",
      "Epoch 5/50\n",
      "0s - loss: 0.0362 - acc: 0.9897 - val_loss: 0.0676 - val_acc: 0.9786\n",
      "Epoch 6/50\n",
      "0s - loss: 0.0254 - acc: 0.9936 - val_loss: 0.0666 - val_acc: 0.9809\n",
      "Epoch 7/50\n",
      "0s - loss: 0.0194 - acc: 0.9950 - val_loss: 0.0597 - val_acc: 0.9805\n",
      "Epoch 8/50\n",
      "0s - loss: 0.0141 - acc: 0.9968 - val_loss: 0.0580 - val_acc: 0.9821\n",
      "Epoch 9/50\n",
      "0s - loss: 0.0114 - acc: 0.9975 - val_loss: 0.0654 - val_acc: 0.9808\n",
      "Epoch 10/50\n",
      "0s - loss: 0.0085 - acc: 0.9982 - val_loss: 0.0593 - val_acc: 0.9832\n",
      "Epoch 11/50\n",
      "0s - loss: 0.0055 - acc: 0.9993 - val_loss: 0.0580 - val_acc: 0.9834\n",
      "Epoch 12/50\n",
      "0s - loss: 0.0045 - acc: 0.9994 - val_loss: 0.0586 - val_acc: 0.9834\n",
      "Epoch 13/50\n",
      "0s - loss: 0.0032 - acc: 0.9997 - val_loss: 0.0593 - val_acc: 0.9835\n",
      "Epoch 14/50\n",
      "0s - loss: 0.0030 - acc: 0.9996 - val_loss: 0.0586 - val_acc: 0.9841\n",
      "Epoch 15/50\n",
      "0s - loss: 0.0060 - acc: 0.9985 - val_loss: 0.1044 - val_acc: 0.9718\n",
      "Epoch 16/50\n",
      "0s - loss: 0.0146 - acc: 0.9951 - val_loss: 0.0742 - val_acc: 0.9810\n",
      "Epoch 17/50\n",
      "0s - loss: 0.0053 - acc: 0.9987 - val_loss: 0.0632 - val_acc: 0.9828\n",
      "Epoch 18/50\n",
      "0s - loss: 0.0021 - acc: 0.9996 - val_loss: 0.0658 - val_acc: 0.9835\n",
      "Epoch 19/50\n",
      "0s - loss: 8.1267e-04 - acc: 0.9999 - val_loss: 0.0612 - val_acc: 0.9836\n",
      "Epoch 20/50\n",
      "0s - loss: 3.9158e-04 - acc: 1.0000 - val_loss: 0.0627 - val_acc: 0.9842\n",
      "Epoch 21/50\n",
      "0s - loss: 3.0395e-04 - acc: 1.0000 - val_loss: 0.0636 - val_acc: 0.9836\n",
      "Epoch 22/50\n",
      "0s - loss: 2.6819e-04 - acc: 1.0000 - val_loss: 0.0634 - val_acc: 0.9838\n",
      "Epoch 23/50\n",
      "0s - loss: 2.4113e-04 - acc: 1.0000 - val_loss: 0.0651 - val_acc: 0.9833\n",
      "Epoch 24/50\n",
      "0s - loss: 2.0783e-04 - acc: 1.0000 - val_loss: 0.0647 - val_acc: 0.9836\n",
      "Epoch 25/50\n",
      "0s - loss: 1.8492e-04 - acc: 1.0000 - val_loss: 0.0655 - val_acc: 0.9838\n",
      "Epoch 26/50\n",
      "0s - loss: 1.5971e-04 - acc: 1.0000 - val_loss: 0.0651 - val_acc: 0.9837\n",
      "Epoch 27/50\n",
      "0s - loss: 1.4204e-04 - acc: 1.0000 - val_loss: 0.0666 - val_acc: 0.9835\n",
      "Epoch 28/50\n",
      "0s - loss: 1.2412e-04 - acc: 1.0000 - val_loss: 0.0673 - val_acc: 0.9838\n",
      "Epoch 29/50\n",
      "0s - loss: 0.0289 - acc: 0.9909 - val_loss: 0.0768 - val_acc: 0.9786\n",
      "Epoch 30/50\n",
      "0s - loss: 0.0052 - acc: 0.9985 - val_loss: 0.0681 - val_acc: 0.9824\n",
      "Epoch 31/50\n",
      "0s - loss: 0.0014 - acc: 0.9997 - val_loss: 0.0638 - val_acc: 0.9844\n",
      "Epoch 32/50\n",
      "0s - loss: 4.3369e-04 - acc: 1.0000 - val_loss: 0.0648 - val_acc: 0.9845\n",
      "Epoch 33/50\n",
      "0s - loss: 2.5529e-04 - acc: 1.0000 - val_loss: 0.0656 - val_acc: 0.9844\n",
      "Epoch 34/50\n",
      "0s - loss: 2.0282e-04 - acc: 1.0000 - val_loss: 0.0667 - val_acc: 0.9840\n",
      "Epoch 35/50\n",
      "0s - loss: 1.7120e-04 - acc: 1.0000 - val_loss: 0.0673 - val_acc: 0.9844\n",
      "Epoch 36/50\n",
      "0s - loss: 1.4719e-04 - acc: 1.0000 - val_loss: 0.0677 - val_acc: 0.9842\n",
      "Epoch 37/50\n",
      "0s - loss: 1.2817e-04 - acc: 1.0000 - val_loss: 0.0684 - val_acc: 0.9842\n",
      "Epoch 38/50\n",
      "0s - loss: 1.1188e-04 - acc: 1.0000 - val_loss: 0.0690 - val_acc: 0.9840\n",
      "Epoch 39/50\n",
      "0s - loss: 9.8892e-05 - acc: 1.0000 - val_loss: 0.0702 - val_acc: 0.9842\n",
      "Epoch 40/50\n",
      "0s - loss: 8.7120e-05 - acc: 1.0000 - val_loss: 0.0701 - val_acc: 0.9843\n",
      "Epoch 41/50\n",
      "0s - loss: 7.6905e-05 - acc: 1.0000 - val_loss: 0.0704 - val_acc: 0.9841\n",
      "Epoch 42/50\n",
      "0s - loss: 6.7624e-05 - acc: 1.0000 - val_loss: 0.0714 - val_acc: 0.9841\n",
      "Epoch 43/50\n",
      "0s - loss: 6.3113e-05 - acc: 1.0000 - val_loss: 0.0712 - val_acc: 0.9843\n",
      "Epoch 44/50\n",
      "0s - loss: 5.3427e-05 - acc: 1.0000 - val_loss: 0.0726 - val_acc: 0.9843\n",
      "Epoch 45/50\n",
      "0s - loss: 4.5815e-05 - acc: 1.0000 - val_loss: 0.0730 - val_acc: 0.9845\n",
      "Epoch 46/50\n",
      "0s - loss: 4.1427e-05 - acc: 1.0000 - val_loss: 0.0729 - val_acc: 0.9846\n",
      "Epoch 47/50\n",
      "0s - loss: 3.6260e-05 - acc: 1.0000 - val_loss: 0.0739 - val_acc: 0.9842\n",
      "Epoch 48/50\n",
      "0s - loss: 3.1447e-05 - acc: 1.0000 - val_loss: 0.0749 - val_acc: 0.9840\n",
      "Epoch 49/50\n",
      "0s - loss: 2.7820e-05 - acc: 1.0000 - val_loss: 0.0749 - val_acc: 0.9844\n",
      "Epoch 50/50\n",
      "0s - loss: 2.4373e-05 - acc: 1.0000 - val_loss: 0.0761 - val_acc: 0.9844\n"
     ]
    }
   ],
   "source": [
    "model2 = baseline_model()\n",
    "history2 = model2.fit(X_train,y_train,validation_data=(X_test,y_test),epochs=50,batch_size=200,verbose=2)"
   ]
  },
  {
   "cell_type": "code",
   "execution_count": 14,
   "metadata": {},
   "outputs": [
    {
     "data": {
      "image/png": "[encoded data removed]",
      "text/plain": [
       "<matplotlib.figure.Figure at 0x7fc9d3e75ba8>"
      ]
     },
     "metadata": {},
     "output_type": "display_data"
    },
    {
     "ename": "NameError",
     "evalue": "name 'model' is not defined",
     "output_type": "error",
     "traceback": [
      "\u001b[0;31m---------------------------------------------------------------------------\u001b[0m",
      "\u001b[0;31mNameError\u001b[0m                                 Traceback (most recent call last)",
      "\u001b[0;32m<ipython-input-14-c07ba9bbb7e8>\u001b[0m in \u001b[0;36m<module>\u001b[0;34m()\u001b[0m\n\u001b[1;32m      7\u001b[0m \u001b[0mplt\u001b[0m\u001b[0;34m.\u001b[0m\u001b[0msavefig\u001b[0m\u001b[0;34m(\u001b[0m\u001b[0;34m'fifty-epoch-acc.jpg'\u001b[0m\u001b[0;34m,\u001b[0m \u001b[0mDPI\u001b[0m\u001b[0;34m=\u001b[0m\u001b[0;36m1000\u001b[0m\u001b[0;34m)\u001b[0m\u001b[0;34m\u001b[0m\u001b[0m\n\u001b[1;32m      8\u001b[0m \u001b[0mplt\u001b[0m\u001b[0;34m.\u001b[0m\u001b[0mshow\u001b[0m\u001b[0;34m(\u001b[0m\u001b[0;34m)\u001b[0m\u001b[0;34m\u001b[0m\u001b[0m\n\u001b[0;32m----> 9\u001b[0;31m \u001b[0;32mdel\u001b[0m \u001b[0mmodel\u001b[0m\u001b[0;34m\u001b[0m\u001b[0m\n\u001b[0m\u001b[1;32m     10\u001b[0m \u001b[0;32mdel\u001b[0m \u001b[0mmodel2\u001b[0m\u001b[0;34m\u001b[0m\u001b[0m\n",
      "\u001b[0;31mNameError\u001b[0m: name 'model' is not defined"
     ]
    }
   ],
   "source": [
    "plt.plot(history2.history['acc'])\n",
    "plt.plot(history2.history['val_acc'])\n",
    "plt.title('model accuracy - 50')\n",
    "plt.ylabel('accuracy')\n",
    "plt.xlabel('epoch')\n",
    "plt.legend(['train','test'], loc='upper left')\n",
    "plt.savefig('fifty-epoch-acc.jpg', DPI=1000)\n",
    "plt.show()\n",
    "del history\n",
    "del"
   ]
  },
  {
   "cell_type": "code",
   "execution_count": 16,
   "metadata": {},
   "outputs": [
    {
     "name": "stdout",
     "output_type": "stream",
     "text": [
      "Train on 60000 samples, validate on 10000 samples\n",
      "Epoch 1/100\n",
      "0s - loss: 0.0057 - acc: 0.9992 - val_loss: 0.0624 - val_acc: 0.9812\n",
      "Epoch 2/100\n",
      "0s - loss: 0.0058 - acc: 0.9989 - val_loss: 0.0629 - val_acc: 0.9807\n",
      "Epoch 3/100\n",
      "0s - loss: 0.0041 - acc: 0.9994 - val_loss: 0.0601 - val_acc: 0.9827\n",
      "Epoch 4/100\n",
      "0s - loss: 0.0027 - acc: 0.9996 - val_loss: 0.0649 - val_acc: 0.9822\n",
      "Epoch 5/100\n",
      "0s - loss: 0.0079 - acc: 0.9977 - val_loss: 0.0784 - val_acc: 0.9792\n",
      "Epoch 6/100\n",
      "0s - loss: 0.0109 - acc: 0.9965 - val_loss: 0.0726 - val_acc: 0.9793\n",
      "Epoch 7/100\n",
      "0s - loss: 0.0038 - acc: 0.9992 - val_loss: 0.0647 - val_acc: 0.9839\n",
      "Epoch 8/100\n",
      "0s - loss: 0.0011 - acc: 1.0000 - val_loss: 0.0629 - val_acc: 0.9834\n",
      "Epoch 9/100\n",
      "0s - loss: 5.0422e-04 - acc: 1.0000 - val_loss: 0.0630 - val_acc: 0.9835\n",
      "Epoch 10/100\n",
      "0s - loss: 3.8141e-04 - acc: 1.0000 - val_loss: 0.0634 - val_acc: 0.9834\n",
      "Epoch 11/100\n",
      "0s - loss: 3.0991e-04 - acc: 1.0000 - val_loss: 0.0645 - val_acc: 0.9834\n",
      "Epoch 12/100\n",
      "0s - loss: 2.7240e-04 - acc: 1.0000 - val_loss: 0.0646 - val_acc: 0.9832\n",
      "Epoch 13/100\n",
      "0s - loss: 2.3936e-04 - acc: 1.0000 - val_loss: 0.0645 - val_acc: 0.9838\n",
      "Epoch 14/100\n",
      "0s - loss: 2.0674e-04 - acc: 1.0000 - val_loss: 0.0656 - val_acc: 0.9835\n",
      "Epoch 15/100\n",
      "0s - loss: 1.8958e-04 - acc: 1.0000 - val_loss: 0.0668 - val_acc: 0.9837\n",
      "Epoch 16/100\n",
      "0s - loss: 1.6100e-04 - acc: 1.0000 - val_loss: 0.0667 - val_acc: 0.9837\n",
      "Epoch 17/100\n",
      "0s - loss: 1.4157e-04 - acc: 1.0000 - val_loss: 0.0670 - val_acc: 0.9840\n",
      "Epoch 18/100\n",
      "0s - loss: 1.2833e-04 - acc: 1.0000 - val_loss: 0.0677 - val_acc: 0.9837\n",
      "Epoch 19/100\n",
      "0s - loss: 1.1173e-04 - acc: 1.0000 - val_loss: 0.0689 - val_acc: 0.9836\n",
      "Epoch 20/100\n",
      "0s - loss: 1.1889e-04 - acc: 1.0000 - val_loss: 0.0685 - val_acc: 0.9837\n",
      "Epoch 21/100\n",
      "0s - loss: 0.0294 - acc: 0.9904 - val_loss: 0.0818 - val_acc: 0.9809\n",
      "Epoch 22/100\n",
      "0s - loss: 0.0060 - acc: 0.9981 - val_loss: 0.0881 - val_acc: 0.9799\n",
      "Epoch 23/100\n",
      "0s - loss: 0.0016 - acc: 0.9997 - val_loss: 0.0764 - val_acc: 0.9827\n",
      "Epoch 24/100\n",
      "0s - loss: 4.1818e-04 - acc: 1.0000 - val_loss: 0.0705 - val_acc: 0.9837\n",
      "Epoch 25/100\n",
      "0s - loss: 2.3630e-04 - acc: 1.0000 - val_loss: 0.0712 - val_acc: 0.9836\n",
      "Epoch 26/100\n",
      "0s - loss: 1.8819e-04 - acc: 1.0000 - val_loss: 0.0714 - val_acc: 0.9840\n",
      "Epoch 27/100\n",
      "0s - loss: 1.5982e-04 - acc: 1.0000 - val_loss: 0.0713 - val_acc: 0.9842\n",
      "Epoch 28/100\n",
      "0s - loss: 1.3755e-04 - acc: 1.0000 - val_loss: 0.0716 - val_acc: 0.9841\n",
      "Epoch 29/100\n",
      "0s - loss: 1.2011e-04 - acc: 1.0000 - val_loss: 0.0720 - val_acc: 0.9844\n",
      "Epoch 30/100\n",
      "0s - loss: 1.0546e-04 - acc: 1.0000 - val_loss: 0.0729 - val_acc: 0.9842\n",
      "Epoch 31/100\n",
      "0s - loss: 9.4387e-05 - acc: 1.0000 - val_loss: 0.0733 - val_acc: 0.9845\n",
      "Epoch 32/100\n",
      "0s - loss: 8.2923e-05 - acc: 1.0000 - val_loss: 0.0733 - val_acc: 0.9844\n",
      "Epoch 33/100\n",
      "0s - loss: 7.4080e-05 - acc: 1.0000 - val_loss: 0.0736 - val_acc: 0.9845\n",
      "Epoch 34/100\n",
      "0s - loss: 6.5462e-05 - acc: 1.0000 - val_loss: 0.0752 - val_acc: 0.9844\n",
      "Epoch 35/100\n",
      "0s - loss: 5.8808e-05 - acc: 1.0000 - val_loss: 0.0745 - val_acc: 0.9845\n",
      "Epoch 36/100\n",
      "0s - loss: 5.2060e-05 - acc: 1.0000 - val_loss: 0.0753 - val_acc: 0.9845\n",
      "Epoch 37/100\n",
      "0s - loss: 4.6021e-05 - acc: 1.0000 - val_loss: 0.0752 - val_acc: 0.9845\n",
      "Epoch 38/100\n",
      "0s - loss: 3.9838e-05 - acc: 1.0000 - val_loss: 0.0761 - val_acc: 0.9844\n",
      "Epoch 39/100\n",
      "0s - loss: 3.5385e-05 - acc: 1.0000 - val_loss: 0.0764 - val_acc: 0.9843\n",
      "Epoch 40/100\n",
      "0s - loss: 3.0959e-05 - acc: 1.0000 - val_loss: 0.0769 - val_acc: 0.9850\n",
      "Epoch 41/100\n",
      "0s - loss: 2.7690e-05 - acc: 1.0000 - val_loss: 0.0779 - val_acc: 0.9841\n",
      "Epoch 42/100\n",
      "0s - loss: 2.4551e-05 - acc: 1.0000 - val_loss: 0.0780 - val_acc: 0.9845\n",
      "Epoch 43/100\n",
      "0s - loss: 2.1274e-05 - acc: 1.0000 - val_loss: 0.0783 - val_acc: 0.9844\n",
      "Epoch 44/100\n",
      "0s - loss: 1.8793e-05 - acc: 1.0000 - val_loss: 0.0791 - val_acc: 0.9845\n",
      "Epoch 45/100\n",
      "0s - loss: 1.6397e-05 - acc: 1.0000 - val_loss: 0.0799 - val_acc: 0.9842\n",
      "Epoch 46/100\n",
      "0s - loss: 1.4738e-05 - acc: 1.0000 - val_loss: 0.0800 - val_acc: 0.9845\n",
      "Epoch 47/100\n",
      "0s - loss: 0.0188 - acc: 0.9951 - val_loss: 0.1332 - val_acc: 0.9733\n",
      "Epoch 48/100\n",
      "0s - loss: 0.0114 - acc: 0.9960 - val_loss: 0.0918 - val_acc: 0.9817\n",
      "Epoch 49/100\n",
      "0s - loss: 0.0024 - acc: 0.9992 - val_loss: 0.0779 - val_acc: 0.9840\n",
      "Epoch 50/100\n",
      "0s - loss: 4.4628e-04 - acc: 0.9999 - val_loss: 0.0749 - val_acc: 0.9842\n",
      "Epoch 51/100\n",
      "0s - loss: 1.3031e-04 - acc: 1.0000 - val_loss: 0.0749 - val_acc: 0.9845\n",
      "Epoch 52/100\n",
      "0s - loss: 9.1697e-05 - acc: 1.0000 - val_loss: 0.0754 - val_acc: 0.9848\n",
      "Epoch 53/100\n",
      "0s - loss: 7.5623e-05 - acc: 1.0000 - val_loss: 0.0759 - val_acc: 0.9847\n",
      "Epoch 54/100\n",
      "0s - loss: 6.4680e-05 - acc: 1.0000 - val_loss: 0.0763 - val_acc: 0.9847\n",
      "Epoch 55/100\n",
      "0s - loss: 5.6225e-05 - acc: 1.0000 - val_loss: 0.0769 - val_acc: 0.9846\n",
      "Epoch 56/100\n",
      "0s - loss: 4.8870e-05 - acc: 1.0000 - val_loss: 0.0774 - val_acc: 0.9848\n",
      "Epoch 57/100\n",
      "0s - loss: 4.3394e-05 - acc: 1.0000 - val_loss: 0.0778 - val_acc: 0.9849\n",
      "Epoch 58/100\n",
      "0s - loss: 3.8005e-05 - acc: 1.0000 - val_loss: 0.0785 - val_acc: 0.9845\n",
      "Epoch 59/100\n",
      "0s - loss: 3.3688e-05 - acc: 1.0000 - val_loss: 0.0788 - val_acc: 0.9848\n",
      "Epoch 60/100\n",
      "0s - loss: 2.9914e-05 - acc: 1.0000 - val_loss: 0.0793 - val_acc: 0.9848\n",
      "Epoch 61/100\n",
      "0s - loss: 2.6514e-05 - acc: 1.0000 - val_loss: 0.0796 - val_acc: 0.9851\n",
      "Epoch 62/100\n",
      "0s - loss: 2.3561e-05 - acc: 1.0000 - val_loss: 0.0805 - val_acc: 0.9849\n",
      "Epoch 63/100\n",
      "0s - loss: 2.1024e-05 - acc: 1.0000 - val_loss: 0.0811 - val_acc: 0.9850\n",
      "Epoch 64/100\n",
      "0s - loss: 1.8777e-05 - acc: 1.0000 - val_loss: 0.0821 - val_acc: 0.9848\n",
      "Epoch 65/100\n",
      "0s - loss: 1.6752e-05 - acc: 1.0000 - val_loss: 0.0816 - val_acc: 0.9848\n",
      "Epoch 66/100\n",
      "0s - loss: 1.4852e-05 - acc: 1.0000 - val_loss: 0.0821 - val_acc: 0.9850\n",
      "Epoch 67/100\n",
      "0s - loss: 1.3169e-05 - acc: 1.0000 - val_loss: 0.0829 - val_acc: 0.9848\n",
      "Epoch 68/100\n",
      "0s - loss: 1.1642e-05 - acc: 1.0000 - val_loss: 0.0840 - val_acc: 0.9848\n",
      "Epoch 69/100\n",
      "0s - loss: 1.0310e-05 - acc: 1.0000 - val_loss: 0.0844 - val_acc: 0.9849\n",
      "Epoch 70/100\n",
      "0s - loss: 9.1891e-06 - acc: 1.0000 - val_loss: 0.0844 - val_acc: 0.9846\n",
      "Epoch 71/100\n",
      "0s - loss: 8.1344e-06 - acc: 1.0000 - val_loss: 0.0849 - val_acc: 0.9848\n",
      "Epoch 72/100\n",
      "0s - loss: 7.1939e-06 - acc: 1.0000 - val_loss: 0.0853 - val_acc: 0.9847\n",
      "Epoch 73/100\n",
      "0s - loss: 6.3721e-06 - acc: 1.0000 - val_loss: 0.0864 - val_acc: 0.9846\n",
      "Epoch 74/100\n",
      "0s - loss: 5.6975e-06 - acc: 1.0000 - val_loss: 0.0875 - val_acc: 0.9847\n",
      "Epoch 75/100\n",
      "0s - loss: 4.9762e-06 - acc: 1.0000 - val_loss: 0.0876 - val_acc: 0.9843\n",
      "Epoch 76/100\n",
      "0s - loss: 4.3236e-06 - acc: 1.0000 - val_loss: 0.0885 - val_acc: 0.9844\n",
      "Epoch 77/100\n",
      "0s - loss: 3.9017e-06 - acc: 1.0000 - val_loss: 0.0887 - val_acc: 0.9844\n",
      "Epoch 78/100\n",
      "0s - loss: 3.4011e-06 - acc: 1.0000 - val_loss: 0.0892 - val_acc: 0.9846\n",
      "Epoch 79/100\n",
      "0s - loss: 3.0307e-06 - acc: 1.0000 - val_loss: 0.0893 - val_acc: 0.9848\n",
      "Epoch 80/100\n",
      "0s - loss: 2.7087e-06 - acc: 1.0000 - val_loss: 0.0902 - val_acc: 0.9845\n",
      "Epoch 81/100\n",
      "0s - loss: 2.4408e-06 - acc: 1.0000 - val_loss: 0.0904 - val_acc: 0.9847\n",
      "Epoch 82/100\n",
      "0s - loss: 2.0830e-06 - acc: 1.0000 - val_loss: 0.0920 - val_acc: 0.9849\n",
      "Epoch 83/100\n",
      "0s - loss: 1.8228e-06 - acc: 1.0000 - val_loss: 0.0922 - val_acc: 0.9846\n",
      "Epoch 84/100\n",
      "0s - loss: 1.6082e-06 - acc: 1.0000 - val_loss: 0.0935 - val_acc: 0.9844\n",
      "Epoch 85/100\n",
      "0s - loss: 1.4148e-06 - acc: 1.0000 - val_loss: 0.0938 - val_acc: 0.9843\n",
      "Epoch 86/100\n",
      "0s - loss: 1.2632e-06 - acc: 1.0000 - val_loss: 0.0939 - val_acc: 0.9849\n",
      "Epoch 87/100\n",
      "0s - loss: 1.1021e-06 - acc: 1.0000 - val_loss: 0.0950 - val_acc: 0.9850\n",
      "Epoch 88/100\n",
      "0s - loss: 9.6609e-07 - acc: 1.0000 - val_loss: 0.0958 - val_acc: 0.9847\n",
      "Epoch 89/100\n",
      "0s - loss: 8.5257e-07 - acc: 1.0000 - val_loss: 0.0966 - val_acc: 0.9844\n",
      "Epoch 90/100\n",
      "0s - loss: 7.5961e-07 - acc: 1.0000 - val_loss: 0.0967 - val_acc: 0.9847\n",
      "Epoch 91/100\n",
      "0s - loss: 6.6662e-07 - acc: 1.0000 - val_loss: 0.0974 - val_acc: 0.9847\n",
      "Epoch 92/100\n",
      "0s - loss: 6.0225e-07 - acc: 1.0000 - val_loss: 0.0988 - val_acc: 0.9846\n",
      "Epoch 93/100\n",
      "0s - loss: 5.4370e-07 - acc: 1.0000 - val_loss: 0.0992 - val_acc: 0.9843\n",
      "Epoch 94/100\n",
      "0s - loss: 4.8031e-07 - acc: 1.0000 - val_loss: 0.1002 - val_acc: 0.9847\n",
      "Epoch 95/100\n",
      "0s - loss: 4.4139e-07 - acc: 1.0000 - val_loss: 0.0999 - val_acc: 0.9846\n",
      "Epoch 96/100\n",
      "0s - loss: 3.8918e-07 - acc: 1.0000 - val_loss: 0.1008 - val_acc: 0.9847\n",
      "Epoch 97/100\n"
     ]
    },
    {
     "name": "stdout",
     "output_type": "stream",
     "text": [
      "0s - loss: 3.5176e-07 - acc: 1.0000 - val_loss: 0.1017 - val_acc: 0.9846\n",
      "Epoch 98/100\n",
      "0s - loss: 3.2212e-07 - acc: 1.0000 - val_loss: 0.1018 - val_acc: 0.9849\n",
      "Epoch 99/100\n",
      "0s - loss: 2.9047e-07 - acc: 1.0000 - val_loss: 0.1028 - val_acc: 0.9845\n",
      "Epoch 100/100\n",
      "0s - loss: 2.6528e-07 - acc: 1.0000 - val_loss: 0.1037 - val_acc: 0.9845\n"
     ]
    }
   ],
   "source": [
    "model3 = baseline_model()\n",
    "history3 = model.fit(X_train,y_train,validation_data=(X_test,y_test),epochs=100,batch_size=200,verbose=2)\n",
    "scores3=model.evaluate(X_test,y_test,verbose=0)"
   ]
  },
  {
   "cell_type": "code",
   "execution_count": 18,
   "metadata": {},
   "outputs": [
    {
     "data": {
      "image/png": "[encoded data removed]",
      "text/plain": [
       "<matplotlib.figure.Figure at 0x7f1598f5f198>"
      ]
     },
     "metadata": {},
     "output_type": "display_data"
    }
   ],
   "source": [
    "plt.plot(history3.history['acc'])\n",
    "plt.plot(history3.history['val_acc'])\n",
    "plt.title('model accuracy - 100')\n",
    "plt.ylabel('accuracy')\n",
    "plt.xlabel('epoch')\n",
    "plt.legend(['train','test'], loc='upper left')\n",
    "plt.savefig('100-epoch-acc.jpg', DPI=1000)\n",
    "plt.show()"
   ]
  },
  {
   "cell_type": "code",
   "execution_count": null,
   "metadata": {
    "collapsed": true
   },
   "outputs": [],
   "source": []
  }
 ],
 "metadata": {
  "kernelspec": {
   "display_name": "tensorflow",
   "language": "python",
   "name": "tensorflow"
  },
  "language_info": {
   "codemirror_mode": {
    "name": "ipython",
    "version": 3
   },
   "file_extension": ".py",
   "mimetype": "text/x-python",
   "name": "python",
   "nbconvert_exporter": "python",
   "pygments_lexer": "ipython3",
   "version": "3.6.1"
  }
 },
 "nbformat": 4,
 "nbformat_minor": 2
}
