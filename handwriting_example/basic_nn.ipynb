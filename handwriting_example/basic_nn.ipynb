{
 "cells": [
  {
   "cell_type": "code",
   "execution_count": 11,
   "metadata": {},
   "outputs": [],
   "source": [
    "import numpy as np\n",
    "from keras.datasets import mnist\n",
    "from keras.models import Sequential\n",
    "from keras.layers import Dense\n",
    "from keras.layers import Dropout\n",
    "from keras.utils import np_utils\n",
    "import matplotlib.pyplot as plt\n",
    "plt.style.use('ggplot')"
   ]
  },
  {
   "cell_type": "code",
   "execution_count": 12,
   "metadata": {
    "collapsed": true
   },
   "outputs": [],
   "source": [
    "seed=7\n",
    "np.random.seed(seed)"
   ]
  },
  {
   "cell_type": "code",
   "execution_count": 13,
   "metadata": {
    "collapsed": true
   },
   "outputs": [],
   "source": [
    "(X_train, y_train), (X_test, y_test) = mnist.load_data()"
   ]
  },
  {
   "cell_type": "code",
   "execution_count": 14,
   "metadata": {
    "collapsed": true
   },
   "outputs": [],
   "source": [
    "num_pixels = X_train.shape[1]*X_train.shape[2]\n",
    "X_train = X_train.reshape(X_train.shape[0], num_pixels).astype('float32')\n",
    "X_test = X_test.reshape(X_test.shape[0], num_pixels).astype('float32')"
   ]
  },
  {
   "cell_type": "code",
   "execution_count": 15,
   "metadata": {
    "collapsed": true
   },
   "outputs": [],
   "source": [
    "X_train = X_train/255\n",
    "X_test = X_test/255"
   ]
  },
  {
   "cell_type": "code",
   "execution_count": 16,
   "metadata": {
    "collapsed": true
   },
   "outputs": [],
   "source": [
    "y_train = np_utils.to_categorical(y_train)\n",
    "y_test = np_utils.to_categorical(y_test)\n",
    "num_classes = y_test.shape[1]"
   ]
  },
  {
   "cell_type": "code",
   "execution_count": 17,
   "metadata": {
    "collapsed": true
   },
   "outputs": [],
   "source": [
    "def baseline_model():\n",
    "    model = Sequential()\n",
    "    model.add(Dense(num_pixels, input_dim=num_pixels, kernel_initializer='normal', activation='relu'))\n",
    "    model.add(Dense(num_classes, kernel_initializer='normal',activation = 'softmax'))\n",
    "    model.compile(loss='categorical_crossentropy',optimizer='adam',metrix=['accuracy'])\n",
    "    return model"
   ]
  },
  {
   "cell_type": "code",
   "execution_count": 18,
   "metadata": {},
   "outputs": [
    {
     "name": "stderr",
     "output_type": "stream",
     "text": [
      "/opt/anaconda/lib/python3.6/site-packages/keras/backend/tensorflow_backend.py:2094: UserWarning: Expected no kwargs, you passed 1\n",
      "kwargs passed to function are ignored with Tensorflow backend\n",
      "  warnings.warn('\\n'.join(msg))\n"
     ]
    },
    {
     "name": "stdout",
     "output_type": "stream",
     "text": [
      "Train on 60000 samples, validate on 10000 samples\n",
      "Epoch 1/10\n",
      "0s - loss: 0.2835 - val_loss: 0.1395\n",
      "Epoch 2/10\n",
      "0s - loss: 0.1095 - val_loss: 0.0909\n",
      "Epoch 3/10\n",
      "0s - loss: 0.0702 - val_loss: 0.0791\n",
      "Epoch 4/10\n",
      "0s - loss: 0.0494 - val_loss: 0.0726\n",
      "Epoch 5/10\n",
      "0s - loss: 0.0369 - val_loss: 0.0672\n",
      "Epoch 6/10\n",
      "0s - loss: 0.0265 - val_loss: 0.0648\n",
      "Epoch 7/10\n",
      "0s - loss: 0.0207 - val_loss: 0.0590\n",
      "Epoch 8/10\n",
      "0s - loss: 0.0136 - val_loss: 0.0628\n",
      "Epoch 9/10\n",
      "0s - loss: 0.0113 - val_loss: 0.0577\n",
      "Epoch 10/10\n",
      "0s - loss: 0.0079 - val_loss: 0.0585\n"
     ]
    }
   ],
   "source": [
    "model = baseline_model()\n",
    "history = model.fit(X_train,y_train,validation_data=(X_test,y_test),epochs=10,batch_size=200,verbose=2)\n",
    "scores=model.evaluate(X_test,y_test,verbose=0)"
   ]
  },
  {
   "cell_type": "code",
   "execution_count": 19,
   "metadata": {},
   "outputs": [
    {
     "name": "stdout",
     "output_type": "stream",
     "text": [
      "dict_keys(['val_loss', 'loss'])\n"
     ]
    }
   ],
   "source": [
    "print(history.history.keys())"
   ]
  },
  {
   "cell_type": "code",
   "execution_count": 21,
   "metadata": {},
   "outputs": [
    {
     "data": {
      "image/png": "[encoded data removed]",
      "text/plain": [
       "<matplotlib.figure.Figure at 0x7f58f1890a20>"
      ]
     },
     "metadata": {},
     "output_type": "display_data"
    }
   ],
   "source": [
    "plt.plot(history.history['loss'])\n",
    "plt.plot(history.history['val_loss'])\n",
    "plt.title('model loss')\n",
    "plt.ylabel('loss')\n",
    "plt.xlabel('epoch')\n",
    "plt.legend(['train','test'], loc='upper left')\n",
    "plt.savefig('ten-epoch.jpg')\n",
    "plt.show()"
   ]
  },
  {
   "cell_type": "code",
   "execution_count": 22,
   "metadata": {},
   "outputs": [
    {
     "name": "stderr",
     "output_type": "stream",
     "text": [
      "/opt/anaconda/lib/python3.6/site-packages/keras/backend/tensorflow_backend.py:2094: UserWarning: Expected no kwargs, you passed 1\n",
      "kwargs passed to function are ignored with Tensorflow backend\n",
      "  warnings.warn('\\n'.join(msg))\n"
     ]
    },
    {
     "name": "stdout",
     "output_type": "stream",
     "text": [
      "Train on 60000 samples, validate on 10000 samples\n",
      "Epoch 1/50\n",
      "0s - loss: 0.2766 - val_loss: 0.1434\n",
      "Epoch 2/50\n",
      "0s - loss: 0.1088 - val_loss: 0.0932\n",
      "Epoch 3/50\n",
      "0s - loss: 0.0703 - val_loss: 0.0774\n",
      "Epoch 4/50\n",
      "0s - loss: 0.0498 - val_loss: 0.0709\n",
      "Epoch 5/50\n",
      "0s - loss: 0.0363 - val_loss: 0.0660\n",
      "Epoch 6/50\n",
      "0s - loss: 0.0252 - val_loss: 0.0664\n",
      "Epoch 7/50\n",
      "0s - loss: 0.0195 - val_loss: 0.0593\n",
      "Epoch 8/50\n",
      "0s - loss: 0.0140 - val_loss: 0.0572\n",
      "Epoch 9/50\n",
      "0s - loss: 0.0113 - val_loss: 0.0659\n",
      "Epoch 10/50\n",
      "0s - loss: 0.0079 - val_loss: 0.0582\n",
      "Epoch 11/50\n",
      "0s - loss: 0.0055 - val_loss: 0.0560\n",
      "Epoch 12/50\n",
      "0s - loss: 0.0050 - val_loss: 0.0610\n",
      "Epoch 13/50\n",
      "0s - loss: 0.0056 - val_loss: 0.0708\n",
      "Epoch 14/50\n",
      "0s - loss: 0.0064 - val_loss: 0.0634\n",
      "Epoch 15/50\n",
      "0s - loss: 0.0035 - val_loss: 0.0653\n",
      "Epoch 16/50\n",
      "0s - loss: 0.0027 - val_loss: 0.0657\n",
      "Epoch 17/50\n",
      "0s - loss: 9.6944e-04 - val_loss: 0.0625\n",
      "Epoch 18/50\n",
      "0s - loss: 0.0106 - val_loss: 0.0880\n",
      "Epoch 19/50\n",
      "0s - loss: 0.0072 - val_loss: 0.0691\n",
      "Epoch 20/50\n",
      "0s - loss: 0.0055 - val_loss: 0.0688\n",
      "Epoch 21/50\n",
      "0s - loss: 0.0020 - val_loss: 0.0650\n",
      "Epoch 22/50\n",
      "0s - loss: 5.2241e-04 - val_loss: 0.0630\n",
      "Epoch 23/50\n",
      "0s - loss: 2.7768e-04 - val_loss: 0.0640\n",
      "Epoch 24/50\n",
      "0s - loss: 2.0504e-04 - val_loss: 0.0645\n",
      "Epoch 25/50\n",
      "0s - loss: 1.7706e-04 - val_loss: 0.0653\n",
      "Epoch 26/50\n",
      "0s - loss: 1.5352e-04 - val_loss: 0.0657\n",
      "Epoch 27/50\n",
      "0s - loss: 1.3677e-04 - val_loss: 0.0666\n",
      "Epoch 28/50\n",
      "0s - loss: 1.1969e-04 - val_loss: 0.0668\n",
      "Epoch 29/50\n",
      "0s - loss: 1.1419e-04 - val_loss: 0.0672\n",
      "Epoch 30/50\n",
      "0s - loss: 9.5899e-05 - val_loss: 0.0676\n",
      "Epoch 31/50\n",
      "0s - loss: 8.6592e-05 - val_loss: 0.0682\n",
      "Epoch 32/50\n",
      "0s - loss: 7.7537e-05 - val_loss: 0.0689\n",
      "Epoch 33/50\n",
      "0s - loss: 6.8882e-05 - val_loss: 0.0695\n",
      "Epoch 34/50\n",
      "0s - loss: 6.2636e-05 - val_loss: 0.0700\n",
      "Epoch 35/50\n",
      "0s - loss: 5.4591e-05 - val_loss: 0.0697\n",
      "Epoch 36/50\n",
      "0s - loss: 4.8434e-05 - val_loss: 0.0713\n",
      "Epoch 37/50\n",
      "0s - loss: 4.1739e-05 - val_loss: 0.0717\n",
      "Epoch 38/50\n",
      "0s - loss: 3.8033e-05 - val_loss: 0.0722\n",
      "Epoch 39/50\n",
      "0s - loss: 3.2767e-05 - val_loss: 0.0738\n",
      "Epoch 40/50\n",
      "0s - loss: 0.0222 - val_loss: 0.0871\n",
      "Epoch 41/50\n",
      "0s - loss: 0.0073 - val_loss: 0.0703\n",
      "Epoch 42/50\n",
      "0s - loss: 0.0013 - val_loss: 0.0715\n",
      "Epoch 43/50\n",
      "0s - loss: 3.4820e-04 - val_loss: 0.0688\n",
      "Epoch 44/50\n",
      "0s - loss: 1.6747e-04 - val_loss: 0.0690\n",
      "Epoch 45/50\n",
      "0s - loss: 1.2993e-04 - val_loss: 0.0702\n",
      "Epoch 46/50\n",
      "0s - loss: 1.1159e-04 - val_loss: 0.0705\n",
      "Epoch 47/50\n",
      "0s - loss: 9.5079e-05 - val_loss: 0.0709\n",
      "Epoch 48/50\n",
      "0s - loss: 8.2828e-05 - val_loss: 0.0719\n",
      "Epoch 49/50\n",
      "0s - loss: 7.3663e-05 - val_loss: 0.0723\n",
      "Epoch 50/50\n",
      "0s - loss: 6.4745e-05 - val_loss: 0.0727\n"
     ]
    }
   ],
   "source": [
    "model2 = baseline_model()\n",
    "history2 = model2.fit(X_train,y_train,validation_data=(X_test,y_test),epochs=50,batch_size=200,verbose=2)"
   ]
  },
  {
   "cell_type": "code",
   "execution_count": 23,
   "metadata": {},
   "outputs": [
    {
     "data": {
      "image/png": "[encoded data removed]",
      "text/plain": [
       "<matplotlib.figure.Figure at 0x7f58eda72940>"
      ]
     },
     "metadata": {},
     "output_type": "display_data"
    }
   ],
   "source": [
    "plt.plot(history2.history['loss'])\n",
    "plt.plot(history2.history['val_loss'])\n",
    "plt.title('model loss')\n",
    "plt.ylabel('loss')\n",
    "plt.xlabel('epoch')\n",
    "plt.legend(['train','test'], loc='upper left')\n",
    "plt.savefig('fifty-epoch.jpg')\n",
    "plt.show()"
   ]
  },
  {
   "cell_type": "code",
   "execution_count": null,
   "metadata": {
    "collapsed": true
   },
   "outputs": [],
   "source": []
  }
 ],
 "metadata": {
  "kernelspec": {
   "display_name": "tensorflow",
   "language": "python",
   "name": "tensorflow"
  },
  "language_info": {
   "codemirror_mode": {
    "name": "ipython",
    "version": 3
   },
   "file_extension": ".py",
   "mimetype": "text/x-python",
   "name": "python",
   "nbconvert_exporter": "python",
   "pygments_lexer": "ipython3",
   "version": "3.6.1"
  }
 },
 "nbformat": 4,
 "nbformat_minor": 2
}
