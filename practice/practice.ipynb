{
 "cells": [
  {
   "cell_type": "code",
   "execution_count": 68,
   "metadata": {
    "collapsed": true
   },
   "outputs": [],
   "source": [
    "import numpy as np\n",
    "import matplotlib.pyplot as plt\n",
    "plt.style.use('ggplot')"
   ]
  },
  {
   "cell_type": "code",
   "execution_count": 69,
   "metadata": {
    "collapsed": true
   },
   "outputs": [],
   "source": [
    "x = np.array([[1,1,0],[1,0,1],[1,1,1]])\n",
    "w = np.array([1/3, 1/5, 1/8])\n",
    "y = np.array([6, 8, 10])\n",
    "a = .5"
   ]
  },
  {
   "cell_type": "code",
   "execution_count": 70,
   "metadata": {},
   "outputs": [
    {
     "data": {
      "text/plain": [
       "array([ 4.00000222,  1.99999889,  4.        ])"
      ]
     },
     "execution_count": 70,
     "metadata": {},
     "output_type": "execute_result"
    }
   ],
   "source": [
    "results = np.empty((1,3))\n",
    "for z in range(50):\n",
    "    for i,inp in enumerate(x):\n",
    "        d = y[i] - np.dot(w, inp)\n",
    "        for j,val in enumerate(w):\n",
    "            w[j] = val + a*d*inp[j]\n",
    "        results = np.append(results, [w], 0)  \n",
    "w"
   ]
  },
  {
   "cell_type": "code",
   "execution_count": 71,
   "metadata": {},
   "outputs": [
    {
     "data": {
      "text/plain": [
       "array([[  2.96439388e-323,   3.95252517e-323,   4.94065646e-323],\n",
       "       [  3.06666667e+000,   2.93333333e+000,   1.25000000e-001],\n",
       "       [  5.47083333e+000,   2.93333333e+000,   2.52916667e+000],\n",
       "       [  5.00416667e+000,   2.46666667e+000,   2.06250000e+000],\n",
       "       [  4.26875000e+000,   1.73125000e+000,   2.06250000e+000],\n",
       "       [  5.10312500e+000,   1.73125000e+000,   2.89687500e+000],\n",
       "       [  5.23750000e+000,   1.86562500e+000,   3.03125000e+000],\n",
       "       [  4.68593750e+000,   1.31406250e+000,   3.03125000e+000],\n",
       "       [  4.82734375e+000,   1.31406250e+000,   3.17265625e+000],\n",
       "       [  5.17031250e+000,   1.65703125e+000,   3.51562500e+000],\n",
       "       [  4.75664063e+000,   1.24335938e+000,   3.51562500e+000],\n",
       "       [  4.62050781e+000,   1.24335938e+000,   3.37949219e+000],\n",
       "       [  4.99882812e+000,   1.62167969e+000,   3.75781250e+000],\n",
       "       [  4.68857422e+000,   1.31142578e+000,   3.75781250e+000],\n",
       "       [  4.46538086e+000,   1.31142578e+000,   3.53461914e+000],\n",
       "       [  4.80966797e+000,   1.65571289e+000,   3.87890625e+000],\n",
       "       [  4.57697754e+000,   1.42302246e+000,   3.87890625e+000],\n",
       "       [  4.34903564e+000,   1.42302246e+000,   3.65096436e+000],\n",
       "       [  4.63752441e+000,   1.71151123e+000,   3.93945313e+000],\n",
       "       [  4.46300659e+000,   1.53699341e+000,   3.93945313e+000],\n",
       "       [  4.26177673e+000,   1.53699341e+000,   3.73822327e+000],\n",
       "       [  4.49328003e+000,   1.76849670e+000,   3.96972656e+000],\n",
       "       [  4.36239166e+000,   1.63760834e+000,   3.96972656e+000],\n",
       "       [  4.19633255e+000,   1.63760834e+000,   3.80366745e+000],\n",
       "       [  4.37752838e+000,   1.81880417e+000,   3.98486328e+000],\n",
       "       [  4.27936211e+000,   1.72063789e+000,   3.98486328e+000],\n",
       "       [  4.14724941e+000,   1.72063789e+000,   3.85275059e+000],\n",
       "       [  4.28693047e+000,   1.86031895e+000,   3.99243164e+000],\n",
       "       [  4.21330576e+000,   1.78669424e+000,   3.99243164e+000],\n",
       "       [  4.11043706e+000,   1.78669424e+000,   3.88956294e+000],\n",
       "       [  4.21708994e+000,   1.89334712e+000,   3.99621582e+000],\n",
       "       [  4.16187141e+000,   1.83812859e+000,   3.99621582e+000],\n",
       "       [  4.08282779e+000,   1.83812859e+000,   3.91717221e+000],\n",
       "       [  4.16376350e+000,   1.91906430e+000,   3.99810791e+000],\n",
       "       [  4.12234960e+000,   1.87765040e+000,   3.99810791e+000],\n",
       "       [  4.06212085e+000,   1.87765040e+000,   3.93787915e+000],\n",
       "       [  4.12329565e+000,   1.93882520e+000,   3.99905396e+000],\n",
       "       [  4.09223522e+000,   1.90776478e+000,   3.99905396e+000],\n",
       "       [  4.04659063e+000,   1.90776478e+000,   3.95340937e+000],\n",
       "       [  4.09270825e+000,   1.95388239e+000,   3.99952698e+000],\n",
       "       [  4.06941293e+000,   1.93058707e+000,   3.99952698e+000],\n",
       "       [  4.03494298e+000,   1.93058707e+000,   3.96505702e+000],\n",
       "       [  4.06964944e+000,   1.96529354e+000,   3.99976349e+000],\n",
       "       [  4.05217795e+000,   1.94782205e+000,   3.99976349e+000],\n",
       "       [  4.02620723e+000,   1.94782205e+000,   3.97379277e+000],\n",
       "       [  4.05229621e+000,   1.97391102e+000,   3.99988174e+000],\n",
       "       [  4.03919259e+000,   1.96080741e+000,   3.99988174e+000],\n",
       "       [  4.01965542e+000,   1.96080741e+000,   3.98034458e+000],\n",
       "       [  4.03925172e+000,   1.98040370e+000,   3.99994087e+000],\n",
       "       [  4.02942401e+000,   1.97057599e+000,   3.99994087e+000],\n",
       "       [  4.01474157e+000,   1.97057599e+000,   3.98525843e+000],\n",
       "       [  4.02945357e+000,   1.98528800e+000,   3.99997044e+000],\n",
       "       [  4.02208279e+000,   1.97791721e+000,   3.99997044e+000],\n",
       "       [  4.01105618e+000,   1.97791721e+000,   3.98894382e+000],\n",
       "       [  4.02209757e+000,   1.98895861e+000,   3.99998522e+000],\n",
       "       [  4.01656948e+000,   1.98343052e+000,   3.99998522e+000],\n",
       "       [  4.00829213e+000,   1.98343052e+000,   3.99170787e+000],\n",
       "       [  4.01657687e+000,   1.99171526e+000,   3.99999261e+000],\n",
       "       [  4.01243081e+000,   1.98756919e+000,   3.99999261e+000],\n",
       "       [  4.00621910e+000,   1.98756919e+000,   3.99378090e+000],\n",
       "       [  4.01243450e+000,   1.99378460e+000,   3.99999630e+000],\n",
       "       [  4.00932495e+000,   1.99067505e+000,   3.99999630e+000],\n",
       "       [  4.00466432e+000,   1.99067505e+000,   3.99533568e+000],\n",
       "       [  4.00932680e+000,   1.99533752e+000,   3.99999815e+000],\n",
       "       [  4.00699464e+000,   1.99300536e+000,   3.99999815e+000],\n",
       "       [  4.00349824e+000,   1.99300536e+000,   3.99650176e+000],\n",
       "       [  4.00699556e+000,   1.99650268e+000,   3.99999908e+000],\n",
       "       [  4.00524644e+000,   1.99475356e+000,   3.99999908e+000],\n",
       "       [  4.00262368e+000,   1.99475356e+000,   3.99737632e+000],\n",
       "       [  4.00524690e+000,   1.99737678e+000,   3.99999954e+000],\n",
       "       [  4.00393506e+000,   1.99606494e+000,   3.99999954e+000],\n",
       "       [  4.00196776e+000,   1.99606494e+000,   3.99803224e+000],\n",
       "       [  4.00393529e+000,   1.99803247e+000,   3.99999977e+000],\n",
       "       [  4.00295141e+000,   1.99704859e+000,   3.99999977e+000],\n",
       "       [  4.00147582e+000,   1.99704859e+000,   3.99852418e+000],\n",
       "       [  4.00295153e+000,   1.99852429e+000,   3.99999988e+000],\n",
       "       [  4.00221362e+000,   1.99778638e+000,   3.99999988e+000],\n",
       "       [  4.00110687e+000,   1.99778638e+000,   3.99889313e+000],\n",
       "       [  4.00221367e+000,   1.99889319e+000,   3.99999994e+000],\n",
       "       [  4.00166024e+000,   1.99833976e+000,   3.99999994e+000],\n",
       "       [  4.00083015e+000,   1.99833976e+000,   3.99916985e+000],\n",
       "       [  4.00166027e+000,   1.99916988e+000,   3.99999997e+000],\n",
       "       [  4.00124520e+000,   1.99875480e+000,   3.99999997e+000],\n",
       "       [  4.00062261e+000,   1.99875480e+000,   3.99937739e+000],\n",
       "       [  4.00124521e+000,   1.99937740e+000,   3.99999999e+000],\n",
       "       [  4.00093390e+000,   1.99906610e+000,   3.99999999e+000],\n",
       "       [  4.00046696e+000,   1.99906610e+000,   3.99953304e+000],\n",
       "       [  4.00093391e+000,   1.99953305e+000,   3.99999999e+000],\n",
       "       [  4.00070043e+000,   1.99929957e+000,   3.99999999e+000],\n",
       "       [  4.00035022e+000,   1.99929957e+000,   3.99964978e+000],\n",
       "       [  4.00070044e+000,   1.99964978e+000,   4.00000000e+000],\n",
       "       [  4.00052533e+000,   1.99947467e+000,   4.00000000e+000],\n",
       "       [  4.00026266e+000,   1.99947467e+000,   3.99973734e+000],\n",
       "       [  4.00052533e+000,   1.99973734e+000,   4.00000000e+000],\n",
       "       [  4.00039399e+000,   1.99960601e+000,   4.00000000e+000],\n",
       "       [  4.00019700e+000,   1.99960601e+000,   3.99980300e+000],\n",
       "       [  4.00039400e+000,   1.99980300e+000,   4.00000000e+000],\n",
       "       [  4.00029550e+000,   1.99970450e+000,   4.00000000e+000],\n",
       "       [  4.00014775e+000,   1.99970450e+000,   3.99985225e+000],\n",
       "       [  4.00029550e+000,   1.99985225e+000,   4.00000000e+000],\n",
       "       [  4.00022162e+000,   1.99977838e+000,   4.00000000e+000],\n",
       "       [  4.00011081e+000,   1.99977838e+000,   3.99988919e+000],\n",
       "       [  4.00022162e+000,   1.99988919e+000,   4.00000000e+000],\n",
       "       [  4.00016622e+000,   1.99983378e+000,   4.00000000e+000],\n",
       "       [  4.00008311e+000,   1.99983378e+000,   3.99991689e+000],\n",
       "       [  4.00016622e+000,   1.99991689e+000,   4.00000000e+000],\n",
       "       [  4.00012466e+000,   1.99987534e+000,   4.00000000e+000],\n",
       "       [  4.00006233e+000,   1.99987534e+000,   3.99993767e+000],\n",
       "       [  4.00012466e+000,   1.99993767e+000,   4.00000000e+000],\n",
       "       [  4.00009350e+000,   1.99990650e+000,   4.00000000e+000],\n",
       "       [  4.00004675e+000,   1.99990650e+000,   3.99995325e+000],\n",
       "       [  4.00009350e+000,   1.99995325e+000,   4.00000000e+000],\n",
       "       [  4.00007012e+000,   1.99992988e+000,   4.00000000e+000],\n",
       "       [  4.00003506e+000,   1.99992988e+000,   3.99996494e+000],\n",
       "       [  4.00007012e+000,   1.99996494e+000,   4.00000000e+000],\n",
       "       [  4.00005259e+000,   1.99994741e+000,   4.00000000e+000],\n",
       "       [  4.00002630e+000,   1.99994741e+000,   3.99997370e+000],\n",
       "       [  4.00005259e+000,   1.99997370e+000,   4.00000000e+000],\n",
       "       [  4.00003944e+000,   1.99996056e+000,   4.00000000e+000],\n",
       "       [  4.00001972e+000,   1.99996056e+000,   3.99998028e+000],\n",
       "       [  4.00003944e+000,   1.99998028e+000,   4.00000000e+000],\n",
       "       [  4.00002958e+000,   1.99997042e+000,   4.00000000e+000],\n",
       "       [  4.00001479e+000,   1.99997042e+000,   3.99998521e+000],\n",
       "       [  4.00002958e+000,   1.99998521e+000,   4.00000000e+000],\n",
       "       [  4.00002219e+000,   1.99997781e+000,   4.00000000e+000],\n",
       "       [  4.00001109e+000,   1.99997781e+000,   3.99998891e+000],\n",
       "       [  4.00002219e+000,   1.99998891e+000,   4.00000000e+000],\n",
       "       [  4.00001664e+000,   1.99998336e+000,   4.00000000e+000],\n",
       "       [  4.00000832e+000,   1.99998336e+000,   3.99999168e+000],\n",
       "       [  4.00001664e+000,   1.99999168e+000,   4.00000000e+000],\n",
       "       [  4.00001248e+000,   1.99998752e+000,   4.00000000e+000],\n",
       "       [  4.00000624e+000,   1.99998752e+000,   3.99999376e+000],\n",
       "       [  4.00001248e+000,   1.99999376e+000,   4.00000000e+000],\n",
       "       [  4.00000936e+000,   1.99999064e+000,   4.00000000e+000],\n",
       "       [  4.00000468e+000,   1.99999064e+000,   3.99999532e+000],\n",
       "       [  4.00000936e+000,   1.99999532e+000,   4.00000000e+000],\n",
       "       [  4.00000702e+000,   1.99999298e+000,   4.00000000e+000],\n",
       "       [  4.00000351e+000,   1.99999298e+000,   3.99999649e+000],\n",
       "       [  4.00000702e+000,   1.99999649e+000,   4.00000000e+000],\n",
       "       [  4.00000527e+000,   1.99999473e+000,   4.00000000e+000],\n",
       "       [  4.00000263e+000,   1.99999473e+000,   3.99999737e+000],\n",
       "       [  4.00000527e+000,   1.99999737e+000,   4.00000000e+000],\n",
       "       [  4.00000395e+000,   1.99999605e+000,   4.00000000e+000],\n",
       "       [  4.00000197e+000,   1.99999605e+000,   3.99999803e+000],\n",
       "       [  4.00000395e+000,   1.99999803e+000,   4.00000000e+000],\n",
       "       [  4.00000296e+000,   1.99999704e+000,   4.00000000e+000],\n",
       "       [  4.00000148e+000,   1.99999704e+000,   3.99999852e+000],\n",
       "       [  4.00000296e+000,   1.99999852e+000,   4.00000000e+000],\n",
       "       [  4.00000222e+000,   1.99999778e+000,   4.00000000e+000],\n",
       "       [  4.00000111e+000,   1.99999778e+000,   3.99999889e+000],\n",
       "       [  4.00000222e+000,   1.99999889e+000,   4.00000000e+000]])"
      ]
     },
     "execution_count": 71,
     "metadata": {},
     "output_type": "execute_result"
    }
   ],
   "source": [
    "results"
   ]
  },
  {
   "cell_type": "code",
   "execution_count": 72,
   "metadata": {},
   "outputs": [],
   "source": [
    "targ = np.array([4,2,4])\n",
    "dist = np.empty((1,1))\n",
    "for arr in results:\n",
    "    dist = np.append(dist,np.linalg.norm(arr-targ))"
   ]
  },
  {
   "cell_type": "code",
   "execution_count": 73,
   "metadata": {
    "scrolled": true
   },
   "outputs": [
    {
     "data": {
      "text/plain": [
       "array([  4.00000000e+00,   6.00000000e+00,   4.09363496e+00,\n",
       "         2.27987116e+00,   2.23159914e+00,   1.97442634e+00,\n",
       "         1.58303383e+00,   1.57732034e+00,   1.37094751e+00,\n",
       "         1.35628375e+00,   1.31220351e+00,   1.17457618e+00,\n",
       "         1.15869104e+00,   1.09518887e+00,   1.00345588e+00,\n",
       "         9.52519366e-01,   8.88121348e-01,   8.24905969e-01,\n",
       "         7.59312085e-01,   7.02373884e-01,   6.57583555e-01,\n",
       "         5.92814659e-01,   5.45743020e-01,   5.13392555e-01,\n",
       "         4.56531113e-01,   4.19033087e-01,   3.95367542e-01,\n",
       "         3.48436458e-01,   3.19213359e-01,   3.01754824e-01,\n",
       "         2.64371018e-01,   2.41903283e-01,   2.28952018e-01,\n",
       "         1.99808009e-01,   1.82681833e-01,   1.73038811e-01,\n",
       "         1.50623451e-01,   1.37641083e-01,   1.30443735e-01,\n",
       "         1.13352155e-01,   1.03546496e-01,   9.81658455e-02,\n",
       "         8.52066773e-02,   7.78179875e-02,   7.37911471e-02,\n",
       "         6.40013807e-02,   5.84426390e-02,   5.54268216e-02,\n",
       "         4.80492524e-02,   4.38715835e-02,   4.16118732e-02,\n",
       "         3.60610579e-02,   3.29234998e-02,   3.12297923e-02,\n",
       "         2.70578561e-02,   2.47025342e-02,   2.34327908e-02,\n",
       "         2.02994246e-02,   1.85318565e-02,   1.75798174e-02,\n",
       "         1.52275850e-02,   1.39013706e-02,   1.31874755e-02,\n",
       "         1.14221972e-02,   1.04272672e-02,   9.89191294e-03,\n",
       "         8.56740215e-03,   7.82107009e-03,   7.41958791e-03,\n",
       "         6.42592876e-03,   5.86611242e-03,   5.56501755e-03,\n",
       "         4.81963514e-03,   4.39973924e-03,   4.17392647e-03,\n",
       "         3.61482065e-03,   3.29988190e-03,   3.13052651e-03,\n",
       "         2.71116263e-03,   2.47495016e-03,   2.34793571e-03,\n",
       "         2.03339554e-03,   1.85623198e-03,   1.76097220e-03,\n",
       "         1.52505845e-03,   1.39218367e-03,   1.32073936e-03,\n",
       "         1.14379973e-03,   1.04414260e-03,   9.90559620e-04,\n",
       "         8.57852742e-04,   7.83109368e-04,   7.42922267e-04,\n",
       "         6.43391030e-04,   5.87333236e-04,   5.57192976e-04,\n",
       "         4.82544009e-04,   4.40500532e-04,   4.17895370e-04,\n",
       "         3.61908375e-04,   3.30375702e-04,   3.13421847e-04,\n",
       "         2.71431465e-04,   2.47781928e-04,   2.35066544e-04,\n",
       "         2.03573691e-04,   1.85836521e-04,   1.76299988e-04,\n",
       "         1.52680314e-04,   1.39377429e-04,   1.32225031e-04,\n",
       "         1.14510259e-04,   1.04533091e-04,   9.91687931e-05,\n",
       "         8.58827056e-05,   7.83998274e-05,   7.43766048e-05,\n",
       "         6.44120350e-05,   5.87998753e-05,   5.57824586e-05,\n",
       "         4.83090291e-05,   4.40999088e-05,   4.18368464e-05,\n",
       "         3.62317733e-05,   3.30749328e-05,   3.13776361e-05,\n",
       "         2.71738307e-05,   2.48062002e-05,   2.35332277e-05,\n",
       "         2.03803734e-05,   1.86046504e-05,   1.76499211e-05,\n",
       "         1.52852802e-05,   1.39534880e-05,   1.32374410e-05,\n",
       "         1.14639602e-05,   1.04651161e-05,   9.92808080e-06,\n",
       "         8.59797023e-06,   7.84883708e-06,   7.44606064e-06,\n",
       "         6.44847769e-06,   5.88662783e-06,   5.58454550e-06,\n",
       "         4.83635828e-06,   4.41497088e-06,   4.18840913e-06,\n",
       "         3.62726872e-06,   3.31122816e-06,   3.14130685e-06,\n",
       "         2.72045154e-06,   2.48342113e-06])"
      ]
     },
     "execution_count": 73,
     "metadata": {},
     "output_type": "execute_result"
    }
   ],
   "source": []
  },
  {
   "cell_type": "code",
   "execution_count": 83,
   "metadata": {},
   "outputs": [
    {
     "data": {
      "text/plain": [
       "<matplotlib.text.Text at 0x7f550bbfb400>"
      ]
     },
     "execution_count": 83,
     "metadata": {},
     "output_type": "execute_result"
    }
   ],
   "source": [
    "plt.plot(dist[1:])\n",
    "plt.xlabel('weight adjustments')\n",
    "plt.ylabel('distance from true weights')\n",
    "plt.title('simple gradient descent')"
   ]
  },
  {
   "cell_type": "code",
   "execution_count": 84,
   "metadata": {},
   "outputs": [
    {
     "data": {
      "image/png": "[encoded data removed]",
      "text/plain": [
       "<matplotlib.figure.Figure at 0x7f550bc364a8>"
      ]
     },
     "metadata": {},
     "output_type": "display_data"
    }
   ],
   "source": [
    "plt.show()"
   ]
  },
  {
   "cell_type": "code",
   "execution_count": null,
   "metadata": {
    "collapsed": true
   },
   "outputs": [],
   "source": []
  }
 ],
 "metadata": {
  "kernelspec": {
   "display_name": "tensorflow",
   "language": "python",
   "name": "tensorflow"
  },
  "language_info": {
   "codemirror_mode": {
    "name": "ipython",
    "version": 3
   },
   "file_extension": ".py",
   "mimetype": "text/x-python",
   "name": "python",
   "nbconvert_exporter": "python",
   "pygments_lexer": "ipython3",
   "version": "3.6.1"
  }
 },
 "nbformat": 4,
 "nbformat_minor": 2
}
